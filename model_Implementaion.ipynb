{
  "nbformat": 4,
  "nbformat_minor": 0,
  "metadata": {
    "colab": {
      "provenance": []
    },
    "kernelspec": {
      "name": "python3",
      "display_name": "Python 3"
    },
    "language_info": {
      "name": "python"
    }
  },
  "cells": [
    {
      "cell_type": "markdown",
      "source": [
        "Importing libraries and datasets"
      ],
      "metadata": {
        "id": "vBQ90BZ_HsJH"
      }
    },
    {
      "cell_type": "code",
      "source": [
        "!pip install --upgrade torch torchvision torchaudio --index-url https://download.pytorch.org/whl/cu118\n",
        "import numpy as np\n",
        "import pandas as pd\n",
        "import json\n",
        "from sklearn.model_selection import train_test_split\n",
        "from sklearn.linear_model import LogisticRegression\n",
        "from sklearn.ensemble import RandomForestClassifier\n",
        "from sklearn.metrics import classification_report, accuracy_score\n",
        "from sklearn.preprocessing import LabelEncoder\n",
        "import torch\n",
        "import torch.nn as nn\n",
        "from torch.utils.data import Dataset, DataLoader\n",
        "from tqdm import tqdm\n",
        "import nltk\n",
        "from nltk.tokenize import word_tokenize\n",
        "\n",
        "df = pd.read_csv('/content/financial_sentiment_merged.csv')\n",
        "\n",
        "with open('/content/vocabulary.json', 'r') as f:\n",
        "    vocab = json.load(f)\n",
        "\n",
        "fasttext_embeddings = np.load('/content/fasttext_embeddings.npy')\n",
        "word2vec_embeddings = np.load('/content/word2vec_embeddings.npy')\n",
        "print(\"Dataset shape:\", df.shape)\n",
        "print(\"Vocabulary size:\", len(vocab))\n",
        "print(\"FastText Embeddings shape:\", fasttext_embeddings.shape)\n",
        "print(\"Word2Vec Embeddings shape:\", word2vec_embeddings.shape)\n"
      ],
      "metadata": {
        "colab": {
          "base_uri": "https://localhost:8080/"
        },
        "id": "bcqCsj1JHvBj",
        "outputId": "53ff6f44-f83b-4ae1-dceb-3e836f9644bd"
      },
      "execution_count": null,
      "outputs": [
        {
          "output_type": "stream",
          "name": "stdout",
          "text": [
            "Looking in indexes: https://download.pytorch.org/whl/cu118\n",
            "Requirement already satisfied: torch in /usr/local/lib/python3.11/dist-packages (2.7.0+cu118)\n",
            "Requirement already satisfied: torchvision in /usr/local/lib/python3.11/dist-packages (0.22.0+cu118)\n",
            "Requirement already satisfied: torchaudio in /usr/local/lib/python3.11/dist-packages (2.7.0+cu118)\n",
            "Requirement already satisfied: filelock in /usr/local/lib/python3.11/dist-packages (from torch) (3.13.1)\n",
            "Requirement already satisfied: typing-extensions>=4.10.0 in /usr/local/lib/python3.11/dist-packages (from torch) (4.12.2)\n",
            "Requirement already satisfied: sympy>=1.13.3 in /usr/local/lib/python3.11/dist-packages (from torch) (1.13.3)\n",
            "Requirement already satisfied: networkx in /usr/local/lib/python3.11/dist-packages (from torch) (3.3)\n",
            "Requirement already satisfied: jinja2 in /usr/local/lib/python3.11/dist-packages (from torch) (3.1.4)\n",
            "Requirement already satisfied: fsspec in /usr/local/lib/python3.11/dist-packages (from torch) (2024.6.1)\n",
            "Requirement already satisfied: nvidia-cuda-nvrtc-cu11==11.8.89 in /usr/local/lib/python3.11/dist-packages (from torch) (11.8.89)\n",
            "Requirement already satisfied: nvidia-cuda-runtime-cu11==11.8.89 in /usr/local/lib/python3.11/dist-packages (from torch) (11.8.89)\n",
            "Requirement already satisfied: nvidia-cuda-cupti-cu11==11.8.87 in /usr/local/lib/python3.11/dist-packages (from torch) (11.8.87)\n",
            "Requirement already satisfied: nvidia-cudnn-cu11==9.1.0.70 in /usr/local/lib/python3.11/dist-packages (from torch) (9.1.0.70)\n",
            "Requirement already satisfied: nvidia-cublas-cu11==11.11.3.6 in /usr/local/lib/python3.11/dist-packages (from torch) (11.11.3.6)\n",
            "Requirement already satisfied: nvidia-cufft-cu11==10.9.0.58 in /usr/local/lib/python3.11/dist-packages (from torch) (10.9.0.58)\n",
            "Requirement already satisfied: nvidia-curand-cu11==10.3.0.86 in /usr/local/lib/python3.11/dist-packages (from torch) (10.3.0.86)\n",
            "Requirement already satisfied: nvidia-cusolver-cu11==11.4.1.48 in /usr/local/lib/python3.11/dist-packages (from torch) (11.4.1.48)\n",
            "Requirement already satisfied: nvidia-cusparse-cu11==11.7.5.86 in /usr/local/lib/python3.11/dist-packages (from torch) (11.7.5.86)\n",
            "Requirement already satisfied: nvidia-nccl-cu11==2.21.5 in /usr/local/lib/python3.11/dist-packages (from torch) (2.21.5)\n",
            "Requirement already satisfied: nvidia-nvtx-cu11==11.8.86 in /usr/local/lib/python3.11/dist-packages (from torch) (11.8.86)\n",
            "Requirement already satisfied: triton==3.3.0 in /usr/local/lib/python3.11/dist-packages (from torch) (3.3.0)\n",
            "Requirement already satisfied: setuptools>=40.8.0 in /usr/local/lib/python3.11/dist-packages (from triton==3.3.0->torch) (70.2.0)\n",
            "Requirement already satisfied: numpy in /usr/local/lib/python3.11/dist-packages (from torchvision) (2.1.2)\n",
            "Requirement already satisfied: pillow!=8.3.*,>=5.3.0 in /usr/local/lib/python3.11/dist-packages (from torchvision) (11.0.0)\n",
            "Requirement already satisfied: mpmath<1.4,>=1.1.0 in /usr/local/lib/python3.11/dist-packages (from sympy>=1.13.3->torch) (1.3.0)\n",
            "Requirement already satisfied: MarkupSafe>=2.0 in /usr/local/lib/python3.11/dist-packages (from jinja2->torch) (2.1.5)\n",
            "Dataset shape: (43933, 3)\n",
            "Vocabulary size: 2\n",
            "FastText Embeddings shape: (48945, 100)\n",
            "Word2Vec Embeddings shape: (48945, 100)\n"
          ]
        }
      ]
    },
    {
      "cell_type": "markdown",
      "source": [
        "Analysis of embeddings"
      ],
      "metadata": {
        "id": "2EbmONDNIoWR"
      }
    },
    {
      "cell_type": "code",
      "source": [
        "import matplotlib.pyplot as plt\n",
        "import seaborn as sns\n",
        "from sklearn.metrics.pairwise import cosine_similarity\n",
        "from sklearn.manifold import TSNE\n",
        "import numpy.linalg as LA\n",
        "\n",
        "# === Filter Embeddings Based on Vocabulary Indexes ===\n",
        "new_fasttext = []\n",
        "new_word2vec = []\n",
        "valid_vocab = {}   # Keep track of valid words and their new indices\n",
        "missing_words = []\n",
        "\n",
        "# Access the 'word2idx' dictionary inside 'vocab'\n",
        "for word, idx in vocab['word2idx'].items():  # Change here\n",
        "    if idx < fasttext_embeddings.shape[0]:\n",
        "        new_fasttext.append(fasttext_embeddings[idx])\n",
        "        new_word2vec.append(word2vec_embeddings[idx])\n",
        "        valid_vocab[word] = len(new_fasttext) - 1\n",
        "    else:\n",
        "        missing_words.append(word)\n",
        "\n",
        "fasttext_embeddings_filtered = np.array(new_fasttext)\n",
        "word2vec_embeddings_filtered = np.array(new_word2vec)\n",
        "\n",
        "print(\"Filtered FastText shape:\", fasttext_embeddings_filtered.shape)\n",
        "print(\"Filtered Word2Vec shape:\", word2vec_embeddings_filtered.shape)\n",
        "print(\"Missing words from embeddings:\", len(missing_words))\n",
        "\n",
        "# === Norm Analysis ===\n",
        "fasttext_norms = LA.norm(fasttext_embeddings_filtered, axis=1)\n",
        "word2vec_norms = LA.norm(word2vec_embeddings_filtered, axis=1)\n",
        "\n",
        "print(\"\\nFastText norms: mean =\", np.mean(fasttext_norms), \", std =\", np.std(fasttext_norms))\n",
        "print(\"Word2Vec norms: mean =\", np.mean(word2vec_norms), \", std =\", np.std(word2vec_norms))\n",
        "\n",
        "# === Cosine Similarity Check ===\n",
        "def get_similar_words(word, embeddings, vocab_dict):\n",
        "    if word not in vocab_dict:\n",
        "        print(f\"'{word}' not found in vocabulary.\")\n",
        "        return []\n",
        "    idx = vocab_dict[word]\n",
        "    if idx >= len(embeddings):\n",
        "        print(f\"'{word}' index {idx} is out of bounds.\")\n",
        "        return []\n",
        "\n",
        "    similarities = cosine_similarity([embeddings[idx]], embeddings)[0]\n",
        "    top_indices = np.argsort(similarities)[-6:-1][::-1]\n",
        "\n",
        "    inv_vocab = {i: w for w, i in vocab_dict.items()}\n",
        "    return [inv_vocab.get(i, f\"<UNK_{i}>\") for i in top_indices]\n",
        "\n",
        "# Try a word known to be present\n",
        "sample_word = 'market'\n",
        "print(f\"\\nTop similar words to '{sample_word}' in FastText:\")\n",
        "print(get_similar_words(sample_word, fasttext_embeddings_filtered, valid_vocab))\n",
        "\n",
        "print(f\"Top similar words to '{sample_word}' in Word2Vec:\")\n",
        "print(get_similar_words(sample_word, word2vec_embeddings_filtered, valid_vocab))\n",
        "\n",
        "# === t-SNE Visualization ===\n",
        "def tsne_plot(embeddings, title):\n",
        "    tsne = TSNE(n_components=2, random_state=42, perplexity=30, n_iter=300)\n",
        "    reduced = tsne.fit_transform(embeddings[:500])\n",
        "    plt.figure(figsize=(8, 6))\n",
        "    sns.scatterplot(x=reduced[:, 0], y=reduced[:, 1], s=20)\n",
        "    plt.title(f'{title} (t-SNE)')\n",
        "    plt.xlabel(\"Dim 1\")\n",
        "    plt.ylabel(\"Dim 2\")\n",
        "    plt.grid(True)\n",
        "    plt.show()\n",
        "\n",
        "# Optional: visualize\n",
        "tsne_plot(fasttext_embeddings_filtered, \"FastText Embeddings\")\n",
        "tsne_plot(word2vec_embeddings_filtered, \"Word2Vec Embeddings\")"
      ],
      "metadata": {
        "colab": {
          "base_uri": "https://localhost:8080/",
          "height": 1000
        },
        "id": "7GYQgghPIrAn",
        "outputId": "b846b43d-a6dc-4fbb-a044-587370fcc47a"
      },
      "execution_count": null,
      "outputs": [
        {
          "output_type": "stream",
          "name": "stdout",
          "text": [
            "Filtered FastText shape: (48945, 100)\n",
            "Filtered Word2Vec shape: (48945, 100)\n",
            "Missing words from embeddings: 0\n",
            "\n",
            "FastText norms: mean = 3.6006203424752563 , std = 1.4854627389417725\n",
            "Word2Vec norms: mean = 10.0970745 , std = 0.75594795\n",
            "\n",
            "Top similar words to 'market' in FastText:\n",
            "['.market', '@market', '-market', 'vmarket', 'smarket']\n",
            "Top similar words to 'market' in Word2Vec:\n",
            "['clx', 'sp500', 'infuse', '390c', 'hietanen']\n"
          ]
        },
        {
          "output_type": "stream",
          "name": "stderr",
          "text": [
            "/usr/local/lib/python3.11/dist-packages/sklearn/manifold/_t_sne.py:1164: FutureWarning: 'n_iter' was renamed to 'max_iter' in version 1.5 and will be removed in 1.7.\n",
            "  warnings.warn(\n"
          ]
        },
        {
          "output_type": "display_data",
          "data": {
            "text/plain": [
              "<Figure size 800x600 with 1 Axes>"
            ],
            "image/png": "[encoded data removed]"
          },
          "metadata": {}
        },
        {
          "output_type": "stream",
          "name": "stderr",
          "text": [
            "/usr/local/lib/python3.11/dist-packages/sklearn/manifold/_t_sne.py:1164: FutureWarning: 'n_iter' was renamed to 'max_iter' in version 1.5 and will be removed in 1.7.\n",
            "  warnings.warn(\n"
          ]
        },
        {
          "output_type": "display_data",
          "data": {
            "text/plain": [
              "<Figure size 800x600 with 1 Axes>"
            ],
            "image/png": "[encoded data removed]"
          },
          "metadata": {}
        }
      ]
    },
    {
      "cell_type": "markdown",
      "source": [
        "Average similariity between two embeddings"
      ],
      "metadata": {
        "id": "M4nYKm-hL1gK"
      }
    },
    {
      "cell_type": "code",
      "source": [
        "# # === Avg Similarity Calculation ===\n",
        "# def avg_cosine_sim(embeddings):\n",
        "#     sim_matrix = cosine_similarity(embeddings)\n",
        "#     np.fill_diagonal(sim_matrix, 0)\n",
        "#     return sim_matrix.mean(axis=1)\n",
        "\n",
        "# fast_avg = avg_cosine_sim(fasttext_embeddings_filtered)\n",
        "# w2v_avg = avg_cosine_sim(word2vec_embeddings_filtered)\n",
        "\n",
        "# print(\"FastText Avg Cosine Sim: mean =\", fast_avg.mean(), \", std =\", fast_avg.std())\n",
        "# print(\"Word2Vec Avg Cosine Sim: mean =\", w2v_avg.mean(), \", std =\", w2v_avg.std())\n",
        "\n",
        "# # === Plot Comparison ===\n",
        "# plt.figure(figsize=(8, 4))\n",
        "# sns.kdeplot(fast_avg, label='FastText', fill=True)\n",
        "# sns.kdeplot(w2v_avg, label='Word2Vec', fill=True)\n",
        "# plt.title(\"Avg Cosine Similarity per Word\")\n",
        "# plt.xlabel(\"Similarity\")\n",
        "# plt.legend()\n",
        "# plt.grid(True)\n",
        "# plt.show()\n"
      ],
      "metadata": {
        "id": "DRqt3G-oL1NO"
      },
      "execution_count": null,
      "outputs": []
    },
    {
      "cell_type": "markdown",
      "source": [
        "SetUp"
      ],
      "metadata": {
        "id": "sQBXR29T5ml5"
      }
    },
    {
      "cell_type": "code",
      "source": [
        "#Preprocess inputs for models\n",
        "nltk.download('punkt')\n",
        "\n",
        "def tokenize_and_vectorize(df, embeddings, vocab_dict, max_len=50):\n",
        "    vectors = []\n",
        "    for text in tqdm(df['Cleaned']):\n",
        "        tokens = word_tokenize(str(text).lower())\n",
        "        vec = []\n",
        "        for tok in tokens[:max_len]:\n",
        "            idx = vocab_dict.get(tok, None)\n",
        "            if idx is not None and idx < embeddings.shape[0]:\n",
        "                vec.append(embeddings[idx])\n",
        "        if len(vec) < max_len:\n",
        "            vec.extend([np.zeros(embeddings.shape[1])] * (max_len - len(vec)))\n",
        "        vectors.append(np.array(vec))\n",
        "    return np.array(vectors)\n",
        "\n",
        "\n",
        "#Label encoding\n",
        "le = LabelEncoder()\n",
        "y = le.fit_transform(df['Sentiment'])\n",
        "\n",
        "X_train_text, X_test_text, y_train, y_test = train_test_split(df['Cleaned'], y, test_size=0.2, random_state=42)\n",
        "\n",
        "train_df = pd.DataFrame({'Cleaned': X_train_text})\n",
        "test_df = pd.DataFrame({'Cleaned': X_test_text})\n",
        "\n"
      ],
      "metadata": {
        "colab": {
          "base_uri": "https://localhost:8080/"
        },
        "id": "nRA6hUOR5oeg",
        "outputId": "d2e6cbcd-00a8-4c2a-aa2a-2341f5a97552"
      },
      "execution_count": null,
      "outputs": [
        {
          "output_type": "stream",
          "name": "stderr",
          "text": [
            "[nltk_data] Downloading package punkt to /root/nltk_data...\n",
            "[nltk_data]   Package punkt is already up-to-date!\n"
          ]
        }
      ]
    },
    {
      "cell_type": "markdown",
      "source": [
        "## Model -1 : Logistic Regression with Averaged Embeddings"
      ],
      "metadata": {
        "id": "gGL2AukX6NkJ"
      }
    },
    {
      "cell_type": "code",
      "source": [
        "from sklearn.linear_model import LogisticRegression\n",
        "from sklearn.metrics import accuracy_score, classification_report\n",
        "import numpy as np\n",
        "from tqdm import tqdm\n",
        "from nltk.tokenize import word_tokenize\n",
        "import nltk\n",
        "\n",
        "nltk.download('punkt_tab')\n",
        "\n",
        "evaluation_results = {\n",
        "    'FastText': {\n",
        "        'LogisticRegression': {'accuracy': None, 'report': None},\n",
        "        'RandomForest': {'accuracy': None, 'report': None},  # Add 'RandomForest' here\n",
        "        'CNN': {'accuracy': None, 'report': None}  # Add 'CNN' here\n",
        "    },\n",
        "    'Word2Vec': {\n",
        "        'LogisticRegression': {'accuracy': None, 'report': None},\n",
        "        'RandomForest': {'accuracy': None, 'report': None},  # Add 'RandomForest' here\n",
        "        'CNN': {'accuracy': None, 'report': None}  # Add 'CNN' here\n",
        "    }\n",
        "}\n",
        "\n",
        "\n",
        "# Store evaluation results function\n",
        "def store_results(embedding_type, model_name, accuracy, classification_rep):\n",
        "    evaluation_results[embedding_type][model_name]['accuracy'] = accuracy\n",
        "    evaluation_results[embedding_type][model_name]['report'] = classification_rep\n",
        "\n",
        "# Average embeddings function\n",
        "def average_embeddings(df_texts, embeddings, vocab_dict):\n",
        "    averaged = []\n",
        "    for text in tqdm(df_texts):\n",
        "        tokens = word_tokenize(str(text).lower())\n",
        "        vecs = [embeddings[vocab_dict[tok]] for tok in tokens if tok in vocab_dict]\n",
        "        if vecs:\n",
        "            avg = np.mean(vecs, axis=0)\n",
        "        else:\n",
        "            avg = np.zeros(embeddings.shape[1])\n",
        "        averaged.append(avg)\n",
        "    return np.array(averaged)\n",
        "\n",
        "# FastText embeddings\n",
        "X_train_ft = average_embeddings(X_train_text, fasttext_embeddings_filtered, valid_vocab)\n",
        "X_test_ft  = average_embeddings(X_test_text, fasttext_embeddings_filtered, valid_vocab)\n",
        "\n",
        "# Word2Vec embeddings\n",
        "X_train_w2v = average_embeddings(X_train_text, word2vec_embeddings_filtered, valid_vocab)\n",
        "X_test_w2v  = average_embeddings(X_test_text, word2vec_embeddings_filtered, valid_vocab)\n",
        "\n",
        "# Logistic Regression function with storing results\n",
        "def run_logistic_regression(X_train, y_train, X_test, y_test, name=\"\"):\n",
        "    model = LogisticRegression(max_iter=1000)\n",
        "    model.fit(X_train, y_train)\n",
        "    y_pred = model.predict(X_test)\n",
        "\n",
        "    acc = accuracy_score(y_test, y_pred)\n",
        "    report = classification_report(y_test, y_pred, target_names=le.classes_.astype(str), output_dict=True)\n",
        "\n",
        "    evaluation_results[name][\"LogisticRegression\"]['accuracy'] = acc\n",
        "    evaluation_results[name][\"LogisticRegression\"]['report'] = report\n",
        "\n",
        "\n",
        "    print(f\"\\n=== Logistic Regression ({name}) ===\")\n",
        "    print(\"Accuracy:\", acc)\n",
        "    print(classification_report(y_test, y_pred, target_names=le.classes_.astype(str)))\n",
        "\n",
        "\n",
        "# Run Logistic Regression for FastText and Word2Vec\n",
        "run_logistic_regression(X_train_ft, y_train, X_test_ft, y_test, \"FastText\")\n",
        "run_logistic_regression(X_train_w2v, y_train, X_test_w2v, y_test, \"Word2Vec\")\n"
      ],
      "metadata": {
        "colab": {
          "base_uri": "https://localhost:8080/"
        },
        "id": "LBlwls336R_N",
        "outputId": "43fc81ca-97a6-424c-c6ea-5727cb8182ea"
      },
      "execution_count": null,
      "outputs": [
        {
          "output_type": "stream",
          "name": "stderr",
          "text": [
            "[nltk_data] Downloading package punkt_tab to /root/nltk_data...\n",
            "[nltk_data]   Package punkt_tab is already up-to-date!\n",
            "100%|██████████| 35146/35146 [00:11<00:00, 3087.91it/s]\n",
            "100%|██████████| 8787/8787 [00:02<00:00, 2986.32it/s]\n",
            "100%|██████████| 35146/35146 [00:13<00:00, 2646.39it/s]\n",
            "100%|██████████| 8787/8787 [00:01<00:00, 4919.69it/s]\n"
          ]
        },
        {
          "output_type": "stream",
          "name": "stdout",
          "text": [
            "\n",
            "=== Logistic Regression (FastText) ===\n",
            "Accuracy: 0.5667463298053943\n",
            "              precision    recall  f1-score   support\n",
            "\n",
            "          -1       0.55      0.54      0.55      2610\n",
            "           0       0.59      0.74      0.66      4101\n",
            "           1       0.48      0.25      0.33      2076\n",
            "\n",
            "    accuracy                           0.57      8787\n",
            "   macro avg       0.54      0.51      0.51      8787\n",
            "weighted avg       0.55      0.57      0.55      8787\n",
            "\n",
            "\n",
            "=== Logistic Regression (Word2Vec) ===\n",
            "Accuracy: 0.5604870831910778\n",
            "              precision    recall  f1-score   support\n",
            "\n",
            "          -1       0.55      0.52      0.54      2610\n",
            "           0       0.58      0.77      0.66      4101\n",
            "           1       0.47      0.19      0.27      2076\n",
            "\n",
            "    accuracy                           0.56      8787\n",
            "   macro avg       0.53      0.50      0.49      8787\n",
            "weighted avg       0.54      0.56      0.53      8787\n",
            "\n"
          ]
        }
      ]
    },
    {
      "cell_type": "markdown",
      "source": [
        "## Model - 2 : Random Forest with Averaged Embeddings"
      ],
      "metadata": {
        "id": "H8_s93sy6hX-"
      }
    },
    {
      "cell_type": "code",
      "source": [
        "def run_random_forest(X_train, y_train, X_test, y_test, name=\"\"):\n",
        "    model = RandomForestClassifier(n_estimators=100, random_state=42)\n",
        "    model.fit(X_train, y_train)\n",
        "    y_pred = model.predict(X_test)\n",
        "\n",
        "    acc = accuracy_score(y_test, y_pred)\n",
        "    report = classification_report(y_test, y_pred, target_names=le.classes_.astype(str), output_dict=True)\n",
        "\n",
        "\n",
        "    evaluation_results[name][\"RandomForest\"]['accuracy'] = acc\n",
        "    evaluation_results[name][\"RandomForest\"]['report'] = report\n",
        "\n",
        "    print(f\"\\n=== Random Forest ({name}) ===\")\n",
        "    print(\"Accuracy:\", acc)\n",
        "    print(classification_report(y_test, y_pred, target_names=le.classes_.astype(str)))\n",
        "\n",
        "\n",
        "run_random_forest(X_train_ft, y_train, X_test_ft, y_test, \"FastText\")\n",
        "run_random_forest(X_train_w2v, y_train, X_test_w2v, y_test, \"Word2Vec\")\n"
      ],
      "metadata": {
        "colab": {
          "base_uri": "https://localhost:8080/"
        },
        "id": "6Qz8QxXL6coS",
        "outputId": "7517e1a1-b892-4f17-8c39-db6a1e790801"
      },
      "execution_count": null,
      "outputs": [
        {
          "output_type": "stream",
          "name": "stdout",
          "text": [
            "\n",
            "=== Random Forest (FastText) ===\n",
            "Accuracy: 0.6090815978149539\n",
            "              precision    recall  f1-score   support\n",
            "\n",
            "          -1       0.61      0.62      0.62      2610\n",
            "           0       0.62      0.79      0.69      4101\n",
            "           1       0.55      0.24      0.33      2076\n",
            "\n",
            "    accuracy                           0.61      8787\n",
            "   macro avg       0.59      0.55      0.55      8787\n",
            "weighted avg       0.60      0.61      0.59      8787\n",
            "\n",
            "\n",
            "=== Random Forest (Word2Vec) ===\n",
            "Accuracy: 0.5860930920678274\n",
            "              precision    recall  f1-score   support\n",
            "\n",
            "          -1       0.61      0.55      0.58      2610\n",
            "           0       0.58      0.82      0.68      4101\n",
            "           1       0.52      0.16      0.24      2076\n",
            "\n",
            "    accuracy                           0.59      8787\n",
            "   macro avg       0.57      0.51      0.50      8787\n",
            "weighted avg       0.58      0.59      0.55      8787\n",
            "\n"
          ]
        }
      ]
    },
    {
      "cell_type": "markdown",
      "source": [
        "## Model -3 : CNN"
      ],
      "metadata": {
        "id": "S7a4WiIn71au"
      }
    },
    {
      "cell_type": "markdown",
      "source": [
        "### Define Dataset"
      ],
      "metadata": {
        "id": "czivg23jf_-N"
      }
    },
    {
      "cell_type": "code",
      "source": [
        "import torch.nn as nn\n",
        "\n",
        "\n",
        "class CNNModel(nn.Module):\n",
        "    def __init__(self, input_dim, num_classes, num_filters=100, kernel_sizes=[3, 4, 5]):\n",
        "        super(CNNModel, self).__init__()\n",
        "        self.convs = nn.ModuleList([\n",
        "            nn.Conv1d(input_dim, num_filters, k) for k in kernel_sizes\n",
        "        ])\n",
        "        self.dropout = nn.Dropout(0.5)\n",
        "        self.fc = nn.Linear(len(kernel_sizes) * num_filters, num_classes)\n",
        "\n",
        "    def forward(self, x):\n",
        "        # x needs to have dimensions (batch_size, embedding_dim, sequence_length)\n",
        "        x = x.permute(0, 2, 1)\n",
        "        x = [torch.relu(conv(x)) for conv in self.convs]\n",
        "        x = [torch.max_pool1d(i, i.size(2)).squeeze(2) for i in x]\n",
        "        x = torch.cat(x, 1)\n",
        "        x = self.dropout(x)\n",
        "        x = self.fc(x)\n",
        "        return x\n",
        "class TextDataset(Dataset):\n",
        "    def __init__(self, texts, labels, embeddings, vocab_dict, max_len=50):\n",
        "        self.max_len = max_len\n",
        "        self.embeddings = embeddings\n",
        "        self.vocab_dict = vocab_dict\n",
        "        self.texts = texts\n",
        "        self.labels = labels\n",
        "\n",
        "    def __len__(self):\n",
        "        return len(self.texts)\n",
        "\n",
        "    def __getitem__(self, sample_idx): # Changed idx to sample_idx\n",
        "        tokens = word_tokenize(str(self.texts[sample_idx]).lower()) # Use sample_idx\n",
        "        vecs = []\n",
        "        for tok in tokens[:self.max_len]:\n",
        "            tok_idx = self.vocab_dict.get(tok, None) # Changed idx to tok_idx\n",
        "            if tok_idx is not None and tok_idx < self.embeddings.shape[0]:\n",
        "                vecs.append(self.embeddings[tok_idx]) # Use tok_idx\n",
        "        if len(vecs) < self.max_len:\n",
        "            vecs.extend([np.zeros(self.embeddings.shape[1])] * (self.max_len - len(vecs)))\n",
        "        vecs = np.array(vecs, dtype=np.float32)\n",
        "        return torch.tensor(vecs), torch.tensor(self.labels[sample_idx], dtype=torch.long) # Use sample_idx\n",
        "\n",
        "# Update the CNN training and evaluation function\n",
        "def train_and_evaluate_cnn(texts_train, texts_test, y_train, y_test, embeddings, name):\n",
        "    train_dataset = TextDataset(texts_train, y_train, embeddings, valid_vocab)\n",
        "    test_dataset = TextDataset(texts_test, y_test, embeddings, valid_vocab)\n",
        "\n",
        "    train_loader = DataLoader(train_dataset, batch_size=32, shuffle=True)\n",
        "    test_loader = DataLoader(test_dataset, batch_size=32)\n",
        "\n",
        "    model = CNNModel(input_dim=embeddings.shape[1], num_classes=len(np.unique(y_train)))\n",
        "    criterion = nn.CrossEntropyLoss()\n",
        "    optimizer = torch.optim.Adam(model.parameters(), lr=0.001)\n",
        "\n",
        "    model.train()\n",
        "    print(f\"\\nTraining CNN model ({name})...\")\n",
        "    for epoch in range(5):\n",
        "        total_loss = 0\n",
        "        loop = tqdm(train_loader, desc=f\"Epoch {epoch+1}\")\n",
        "        for X_batch, y_batch in loop:\n",
        "            optimizer.zero_grad()\n",
        "            outputs = model(X_batch)\n",
        "            loss = criterion(outputs, y_batch)\n",
        "            loss.backward()\n",
        "            optimizer.step()\n",
        "            total_loss += loss.item()\n",
        "            loop.set_postfix(loss=loss.item())\n",
        "        print(f\"Epoch {epoch+1}: Total Loss = {total_loss:.4f}\")\n",
        "\n",
        "    model.eval()\n",
        "    y_true, y_pred = [], []\n",
        "    print(\"Evaluating on test set...\")\n",
        "    with torch.no_grad():\n",
        "        for X_batch, y_batch in tqdm(test_loader, desc=\"Testing\"):\n",
        "            outputs = model(X_batch)\n",
        "            preds = torch.argmax(outputs, dim=1)\n",
        "            y_true.extend(y_batch.tolist())\n",
        "            y_pred.extend(preds.tolist())\n",
        "\n",
        "    accuracy = accuracy_score(y_true, y_pred)\n",
        "    report = classification_report(y_true, y_pred, target_names=le.classes_.astype(str))\n",
        "\n",
        "    # Store the evaluation results\n",
        "    evaluation_results[name][\"CNN\"]['accuracy'] = accuracy\n",
        "    evaluation_results[name][\"CNN\"]['report'] = report\n",
        "\n",
        "    print(f\"\\n=== CNN ({name}) ===\")\n",
        "    print(\"Accuracy:\", accuracy)\n",
        "    print(report)\n",
        "\n",
        "\n",
        "train_and_evaluate_cnn(X_train_text.tolist(), X_test_text.tolist(), y_train, y_test, fasttext_embeddings_filtered, \"FastText\")\n",
        "train_and_evaluate_cnn(X_train_text.tolist(), X_test_text.tolist(), y_train, y_test, word2vec_embeddings_filtered, \"Word2Vec\")\n",
        "\n",
        "\n"
      ],
      "metadata": {
        "colab": {
          "base_uri": "https://localhost:8080/"
        },
        "id": "jeP1SWgngCH8",
        "outputId": "94780411-6b5e-4897-cd5e-a5fe9fdb4e73"
      },
      "execution_count": null,
      "outputs": [
        {
          "output_type": "stream",
          "name": "stdout",
          "text": [
            "\n",
            "Training CNN model (FastText)...\n"
          ]
        },
        {
          "output_type": "stream",
          "name": "stderr",
          "text": [
            "Epoch 1: 100%|██████████| 1099/1099 [00:44<00:00, 24.64it/s, loss=1.11]\n"
          ]
        },
        {
          "output_type": "stream",
          "name": "stdout",
          "text": [
            "Epoch 1: Total Loss = 1002.4459\n"
          ]
        },
        {
          "output_type": "stream",
          "name": "stderr",
          "text": [
            "Epoch 2: 100%|██████████| 1099/1099 [00:43<00:00, 25.53it/s, loss=0.936]\n"
          ]
        },
        {
          "output_type": "stream",
          "name": "stdout",
          "text": [
            "Epoch 2: Total Loss = 936.6729\n"
          ]
        },
        {
          "output_type": "stream",
          "name": "stderr",
          "text": [
            "Epoch 3: 100%|██████████| 1099/1099 [00:46<00:00, 23.46it/s, loss=0.917]\n"
          ]
        },
        {
          "output_type": "stream",
          "name": "stdout",
          "text": [
            "Epoch 3: Total Loss = 891.5641\n"
          ]
        },
        {
          "output_type": "stream",
          "name": "stderr",
          "text": [
            "Epoch 4: 100%|██████████| 1099/1099 [00:43<00:00, 25.22it/s, loss=0.748]\n"
          ]
        },
        {
          "output_type": "stream",
          "name": "stdout",
          "text": [
            "Epoch 4: Total Loss = 866.3101\n"
          ]
        },
        {
          "output_type": "stream",
          "name": "stderr",
          "text": [
            "Epoch 5: 100%|██████████| 1099/1099 [00:42<00:00, 25.75it/s, loss=0.912]\n"
          ]
        },
        {
          "output_type": "stream",
          "name": "stdout",
          "text": [
            "Epoch 5: Total Loss = 836.5219\n",
            "Evaluating on test set...\n"
          ]
        },
        {
          "output_type": "stream",
          "name": "stderr",
          "text": [
            "Testing: 100%|██████████| 275/275 [00:04<00:00, 58.88it/s]\n"
          ]
        },
        {
          "output_type": "stream",
          "name": "stdout",
          "text": [
            "\n",
            "=== CNN (FastText) ===\n",
            "Accuracy: 0.6245590076249005\n",
            "              precision    recall  f1-score   support\n",
            "\n",
            "          -1       0.57      0.70      0.63      2610\n",
            "           0       0.67      0.74      0.70      4101\n",
            "           1       0.60      0.30      0.40      2076\n",
            "\n",
            "    accuracy                           0.62      8787\n",
            "   macro avg       0.61      0.58      0.58      8787\n",
            "weighted avg       0.62      0.62      0.61      8787\n",
            "\n",
            "\n",
            "Training CNN model (Word2Vec)...\n"
          ]
        },
        {
          "output_type": "stream",
          "name": "stderr",
          "text": [
            "Epoch 1: 100%|██████████| 1099/1099 [00:43<00:00, 25.24it/s, loss=0.819]\n"
          ]
        },
        {
          "output_type": "stream",
          "name": "stdout",
          "text": [
            "Epoch 1: Total Loss = 1022.7733\n"
          ]
        },
        {
          "output_type": "stream",
          "name": "stderr",
          "text": [
            "Epoch 2: 100%|██████████| 1099/1099 [00:42<00:00, 25.80it/s, loss=0.944]\n"
          ]
        },
        {
          "output_type": "stream",
          "name": "stdout",
          "text": [
            "Epoch 2: Total Loss = 913.6532\n"
          ]
        },
        {
          "output_type": "stream",
          "name": "stderr",
          "text": [
            "Epoch 3: 100%|██████████| 1099/1099 [00:42<00:00, 25.58it/s, loss=0.456]\n"
          ]
        },
        {
          "output_type": "stream",
          "name": "stdout",
          "text": [
            "Epoch 3: Total Loss = 842.4967\n"
          ]
        },
        {
          "output_type": "stream",
          "name": "stderr",
          "text": [
            "Epoch 4: 100%|██████████| 1099/1099 [00:44<00:00, 24.88it/s, loss=0.897]\n"
          ]
        },
        {
          "output_type": "stream",
          "name": "stdout",
          "text": [
            "Epoch 4: Total Loss = 785.7416\n"
          ]
        },
        {
          "output_type": "stream",
          "name": "stderr",
          "text": [
            "Epoch 5: 100%|██████████| 1099/1099 [00:43<00:00, 25.22it/s, loss=0.652]\n"
          ]
        },
        {
          "output_type": "stream",
          "name": "stdout",
          "text": [
            "Epoch 5: Total Loss = 735.6978\n",
            "Evaluating on test set...\n"
          ]
        },
        {
          "output_type": "stream",
          "name": "stderr",
          "text": [
            "Testing: 100%|██████████| 275/275 [00:04<00:00, 57.55it/s]"
          ]
        },
        {
          "output_type": "stream",
          "name": "stdout",
          "text": [
            "\n",
            "=== CNN (Word2Vec) ===\n",
            "Accuracy: 0.6243313986571071\n",
            "              precision    recall  f1-score   support\n",
            "\n",
            "          -1       0.58      0.67      0.63      2610\n",
            "           0       0.67      0.72      0.70      4101\n",
            "           1       0.55      0.38      0.45      2076\n",
            "\n",
            "    accuracy                           0.62      8787\n",
            "   macro avg       0.60      0.59      0.59      8787\n",
            "weighted avg       0.62      0.62      0.62      8787\n",
            "\n"
          ]
        },
        {
          "output_type": "stream",
          "name": "stderr",
          "text": [
            "\n"
          ]
        }
      ]
    },
    {
      "cell_type": "markdown",
      "source": [
        "Analaysis and evaluation"
      ],
      "metadata": {
        "id": "xoYWgn0zo5IG"
      }
    },
    {
      "cell_type": "code",
      "source": [
        "import matplotlib.pyplot as plt\n",
        "\n",
        "# Extract model names and embedding types\n",
        "models = ['LogisticRegression', 'RandomForest', 'CNN']\n",
        "embeddings = ['FastText', 'Word2Vec']\n",
        "\n",
        "# Collect accuracy data, handling None values\n",
        "accuracy_data = {\n",
        "    model: [\n",
        "        evaluation_results.get(embed, {}).get(model, {}).get('accuracy') # Use get method to avoid KeyError\n",
        "        if evaluation_results.get(embed, {}).get(model, {}).get('accuracy') is not None\n",
        "        else 0  # Replace None with 0 for plotting\n",
        "        for embed in embeddings\n",
        "    ]\n",
        "    for model in models\n",
        "}\n",
        "\n",
        "# Plot\n",
        "x = range(len(embeddings))  # indices for embeddings\n",
        "bar_width = 0.25\n",
        "\n",
        "plt.figure(figsize=(10, 6))\n",
        "\n",
        "# Plot each model's bar\n",
        "for i, model in enumerate(models):\n",
        "    plt.bar([pos + i * bar_width for pos in x], accuracy_data[model], width=bar_width, label=model)\n",
        "\n",
        "# Axis settings\n",
        "plt.xlabel('Embeddings', fontsize=12)\n",
        "plt.ylabel('Accuracy', fontsize=12)\n",
        "plt.title('Model Accuracy Comparison by Embedding Type', fontsize=14)\n",
        "plt.xticks([pos + bar_width for pos in x], embeddings)\n",
        "plt.ylim(0, 1.05)  # accuracy range from 0 to 1\n",
        "plt.legend()\n",
        "plt.grid(axis='y', linestyle='--', alpha=0.7)\n",
        "\n",
        "plt.tight_layout()\n",
        "plt.show()\n",
        "\n",
        "\n",
        "\n",
        "print(\"\\n=== Accuracy Summary ===\")\n",
        "for embed in embeddings:\n",
        "    print(f\"\\n--- {embed} ---\")\n",
        "    for model in models:\n",
        "        acc = evaluation_results.get(embed, {}).get(model, {}).get('accuracy') # Use get method to avoid KeyError\n",
        "        print(f\"{model:20}: {acc if acc is not None else 'N/A'}\")  # Change here"
      ],
      "metadata": {
        "id": "pZqeL_Jzo8Aa",
        "colab": {
          "base_uri": "https://localhost:8080/",
          "height": 815
        },
        "outputId": "2c81c0d8-39bc-4118-9520-e49616a1980f"
      },
      "execution_count": null,
      "outputs": [
        {
          "output_type": "display_data",
          "data": {
            "text/plain": [
              "<Figure size 1000x600 with 1 Axes>"
            ],
            "image/png": "[encoded data removed]"
          },
          "metadata": {}
        },
        {
          "output_type": "stream",
          "name": "stdout",
          "text": [
            "\n",
            "=== Accuracy Summary ===\n",
            "\n",
            "--- FastText ---\n",
            "LogisticRegression  : 0.5667463298053943\n",
            "RandomForest        : 0.6090815978149539\n",
            "CNN                 : 0.6245590076249005\n",
            "\n",
            "--- Word2Vec ---\n",
            "LogisticRegression  : 0.5604870831910778\n",
            "RandomForest        : 0.5860930920678274\n",
            "CNN                 : 0.6243313986571071\n"
          ]
        }
      ]
    }
  ]
}