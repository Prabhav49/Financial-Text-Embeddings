{
  "nbformat": 4,
  "nbformat_minor": 0,
  "metadata": {
    "colab": {
      "provenance": []
    },
    "kernelspec": {
      "name": "python3",
      "display_name": "Python 3"
    },
    "language_info": {
      "name": "python"
    },
    "widgets": {
      "application/vnd.jupyter.widget-state+json": {
        "3f70fdf63a8b4b219720ec44ab9aa84d": {
          "model_module": "@jupyter-widgets/controls",
          "model_name": "HBoxModel",
          "model_module_version": "1.5.0",
          "state": {
            "_dom_classes": [],
            "_model_module": "@jupyter-widgets/controls",
            "_model_module_version": "1.5.0",
            "_model_name": "HBoxModel",
            "_view_count": null,
            "_view_module": "@jupyter-widgets/controls",
            "_view_module_version": "1.5.0",
            "_view_name": "HBoxView",
            "box_style": "",
            "children": [
              "IPY_MODEL_21e680925e8142bfb8c90af4a99da773",
              "IPY_MODEL_4fa5a9fb569143acae6a96cdb54d4754",
              "IPY_MODEL_b3fe66aa01ee41b18859a0c46271eff5"
            ],
            "layout": "IPY_MODEL_5c6121fabbb94c149bdc9127e90a0100"
          }
        },
        "21e680925e8142bfb8c90af4a99da773": {
          "model_module": "@jupyter-widgets/controls",
          "model_name": "HTMLModel",
          "model_module_version": "1.5.0",
          "state": {
            "_dom_classes": [],
            "_model_module": "@jupyter-widgets/controls",
            "_model_module_version": "1.5.0",
            "_model_name": "HTMLModel",
            "_view_count": null,
            "_view_module": "@jupyter-widgets/controls",
            "_view_module_version": "1.5.0",
            "_view_name": "HTMLView",
            "description": "",
            "description_tooltip": null,
            "layout": "IPY_MODEL_3678fa5295d348b9b6698b5e8b814ae6",
            "placeholder": "​",
            "style": "IPY_MODEL_54e97d758d25477bb859ade773cf1387",
            "value": "README.md: 100%"
          }
        },
        "4fa5a9fb569143acae6a96cdb54d4754": {
          "model_module": "@jupyter-widgets/controls",
          "model_name": "FloatProgressModel",
          "model_module_version": "1.5.0",
          "state": {
            "_dom_classes": [],
            "_model_module": "@jupyter-widgets/controls",
            "_model_module_version": "1.5.0",
            "_model_name": "FloatProgressModel",
            "_view_count": null,
            "_view_module": "@jupyter-widgets/controls",
            "_view_module_version": "1.5.0",
            "_view_name": "ProgressView",
            "bar_style": "success",
            "description": "",
            "description_tooltip": null,
            "layout": "IPY_MODEL_347cf12566eb4c37bfdc57fe2a8b4785",
            "max": 4209,
            "min": 0,
            "orientation": "horizontal",
            "style": "IPY_MODEL_512109f9b83444f2aaea9da8065460b6",
            "value": 4209
          }
        },
        "b3fe66aa01ee41b18859a0c46271eff5": {
          "model_module": "@jupyter-widgets/controls",
          "model_name": "HTMLModel",
          "model_module_version": "1.5.0",
          "state": {
            "_dom_classes": [],
            "_model_module": "@jupyter-widgets/controls",
            "_model_module_version": "1.5.0",
            "_model_name": "HTMLModel",
            "_view_count": null,
            "_view_module": "@jupyter-widgets/controls",
            "_view_module_version": "1.5.0",
            "_view_name": "HTMLView",
            "description": "",
            "description_tooltip": null,
            "layout": "IPY_MODEL_88b33d82bfa640949e98c080dcfb1201",
            "placeholder": "​",
            "style": "IPY_MODEL_9073b1db8a6548c2a34dea9fff111e0b",
            "value": " 4.21k/4.21k [00:00&lt;00:00, 62.4kB/s]"
          }
        },
        "5c6121fabbb94c149bdc9127e90a0100": {
          "model_module": "@jupyter-widgets/base",
          "model_name": "LayoutModel",
          "model_module_version": "1.2.0",
          "state": {
            "_model_module": "@jupyter-widgets/base",
            "_model_module_version": "1.2.0",
            "_model_name": "LayoutModel",
            "_view_count": null,
            "_view_module": "@jupyter-widgets/base",
            "_view_module_version": "1.2.0",
            "_view_name": "LayoutView",
            "align_content": null,
            "align_items": null,
            "align_self": null,
            "border": null,
            "bottom": null,
            "display": null,
            "flex": null,
            "flex_flow": null,
            "grid_area": null,
            "grid_auto_columns": null,
            "grid_auto_flow": null,
            "grid_auto_rows": null,
            "grid_column": null,
            "grid_gap": null,
            "grid_row": null,
            "grid_template_areas": null,
            "grid_template_columns": null,
            "grid_template_rows": null,
            "height": null,
            "justify_content": null,
            "justify_items": null,
            "left": null,
            "margin": null,
            "max_height": null,
            "max_width": null,
            "min_height": null,
            "min_width": null,
            "object_fit": null,
            "object_position": null,
            "order": null,
            "overflow": null,
            "overflow_x": null,
            "overflow_y": null,
            "padding": null,
            "right": null,
            "top": null,
            "visibility": null,
            "width": null
          }
        },
        "3678fa5295d348b9b6698b5e8b814ae6": {
          "model_module": "@jupyter-widgets/base",
          "model_name": "LayoutModel",
          "model_module_version": "1.2.0",
          "state": {
            "_model_module": "@jupyter-widgets/base",
            "_model_module_version": "1.2.0",
            "_model_name": "LayoutModel",
            "_view_count": null,
            "_view_module": "@jupyter-widgets/base",
            "_view_module_version": "1.2.0",
            "_view_name": "LayoutView",
            "align_content": null,
            "align_items": null,
            "align_self": null,
            "border": null,
            "bottom": null,
            "display": null,
            "flex": null,
            "flex_flow": null,
            "grid_area": null,
            "grid_auto_columns": null,
            "grid_auto_flow": null,
            "grid_auto_rows": null,
            "grid_column": null,
            "grid_gap": null,
            "grid_row": null,
            "grid_template_areas": null,
            "grid_template_columns": null,
            "grid_template_rows": null,
            "height": null,
            "justify_content": null,
            "justify_items": null,
            "left": null,
            "margin": null,
            "max_height": null,
            "max_width": null,
            "min_height": null,
            "min_width": null,
            "object_fit": null,
            "object_position": null,
            "order": null,
            "overflow": null,
            "overflow_x": null,
            "overflow_y": null,
            "padding": null,
            "right": null,
            "top": null,
            "visibility": null,
            "width": null
          }
        },
        "54e97d758d25477bb859ade773cf1387": {
          "model_module": "@jupyter-widgets/controls",
          "model_name": "DescriptionStyleModel",
          "model_module_version": "1.5.0",
          "state": {
            "_model_module": "@jupyter-widgets/controls",
            "_model_module_version": "1.5.0",
            "_model_name": "DescriptionStyleModel",
            "_view_count": null,
            "_view_module": "@jupyter-widgets/base",
            "_view_module_version": "1.2.0",
            "_view_name": "StyleView",
            "description_width": ""
          }
        },
        "347cf12566eb4c37bfdc57fe2a8b4785": {
          "model_module": "@jupyter-widgets/base",
          "model_name": "LayoutModel",
          "model_module_version": "1.2.0",
          "state": {
            "_model_module": "@jupyter-widgets/base",
            "_model_module_version": "1.2.0",
            "_model_name": "LayoutModel",
            "_view_count": null,
            "_view_module": "@jupyter-widgets/base",
            "_view_module_version": "1.2.0",
            "_view_name": "LayoutView",
            "align_content": null,
            "align_items": null,
            "align_self": null,
            "border": null,
            "bottom": null,
            "display": null,
            "flex": null,
            "flex_flow": null,
            "grid_area": null,
            "grid_auto_columns": null,
            "grid_auto_flow": null,
            "grid_auto_rows": null,
            "grid_column": null,
            "grid_gap": null,
            "grid_row": null,
            "grid_template_areas": null,
            "grid_template_columns": null,
            "grid_template_rows": null,
            "height": null,
            "justify_content": null,
            "justify_items": null,
            "left": null,
            "margin": null,
            "max_height": null,
            "max_width": null,
            "min_height": null,
            "min_width": null,
            "object_fit": null,
            "object_position": null,
            "order": null,
            "overflow": null,
            "overflow_x": null,
            "overflow_y": null,
            "padding": null,
            "right": null,
            "top": null,
            "visibility": null,
            "width": null
          }
        },
        "512109f9b83444f2aaea9da8065460b6": {
          "model_module": "@jupyter-widgets/controls",
          "model_name": "ProgressStyleModel",
          "model_module_version": "1.5.0",
          "state": {
            "_model_module": "@jupyter-widgets/controls",
            "_model_module_version": "1.5.0",
            "_model_name": "ProgressStyleModel",
            "_view_count": null,
            "_view_module": "@jupyter-widgets/base",
            "_view_module_version": "1.2.0",
            "_view_name": "StyleView",
            "bar_color": null,
            "description_width": ""
          }
        },
        "88b33d82bfa640949e98c080dcfb1201": {
          "model_module": "@jupyter-widgets/base",
          "model_name": "LayoutModel",
          "model_module_version": "1.2.0",
          "state": {
            "_model_module": "@jupyter-widgets/base",
            "_model_module_version": "1.2.0",
            "_model_name": "LayoutModel",
            "_view_count": null,
            "_view_module": "@jupyter-widgets/base",
            "_view_module_version": "1.2.0",
            "_view_name": "LayoutView",
            "align_content": null,
            "align_items": null,
            "align_self": null,
            "border": null,
            "bottom": null,
            "display": null,
            "flex": null,
            "flex_flow": null,
            "grid_area": null,
            "grid_auto_columns": null,
            "grid_auto_flow": null,
            "grid_auto_rows": null,
            "grid_column": null,
            "grid_gap": null,
            "grid_row": null,
            "grid_template_areas": null,
            "grid_template_columns": null,
            "grid_template_rows": null,
            "height": null,
            "justify_content": null,
            "justify_items": null,
            "left": null,
            "margin": null,
            "max_height": null,
            "max_width": null,
            "min_height": null,
            "min_width": null,
            "object_fit": null,
            "object_position": null,
            "order": null,
            "overflow": null,
            "overflow_x": null,
            "overflow_y": null,
            "padding": null,
            "right": null,
            "top": null,
            "visibility": null,
            "width": null
          }
        },
        "9073b1db8a6548c2a34dea9fff111e0b": {
          "model_module": "@jupyter-widgets/controls",
          "model_name": "DescriptionStyleModel",
          "model_module_version": "1.5.0",
          "state": {
            "_model_module": "@jupyter-widgets/controls",
            "_model_module_version": "1.5.0",
            "_model_name": "DescriptionStyleModel",
            "_view_count": null,
            "_view_module": "@jupyter-widgets/base",
            "_view_module_version": "1.2.0",
            "_view_name": "StyleView",
            "description_width": ""
          }
        },
        "f7b54b39066843be8cf785fb688eb018": {
          "model_module": "@jupyter-widgets/controls",
          "model_name": "HBoxModel",
          "model_module_version": "1.5.0",
          "state": {
            "_dom_classes": [],
            "_model_module": "@jupyter-widgets/controls",
            "_model_module_version": "1.5.0",
            "_model_name": "HBoxModel",
            "_view_count": null,
            "_view_module": "@jupyter-widgets/controls",
            "_view_module_version": "1.5.0",
            "_view_name": "HBoxView",
            "box_style": "",
            "children": [
              "IPY_MODEL_8e36b8ef5d5e49e8bc813f1dc7a35f28",
              "IPY_MODEL_5f67f3e517a04a82a5bb256bf265eadf",
              "IPY_MODEL_1618cacdf0dd43969ea4cf2368fd4b73"
            ],
            "layout": "IPY_MODEL_411799dd74ad4c059fb8e7928ec75903"
          }
        },
        "8e36b8ef5d5e49e8bc813f1dc7a35f28": {
          "model_module": "@jupyter-widgets/controls",
          "model_name": "HTMLModel",
          "model_module_version": "1.5.0",
          "state": {
            "_dom_classes": [],
            "_model_module": "@jupyter-widgets/controls",
            "_model_module_version": "1.5.0",
            "_model_name": "HTMLModel",
            "_view_count": null,
            "_view_module": "@jupyter-widgets/controls",
            "_view_module_version": "1.5.0",
            "_view_name": "HTMLView",
            "description": "",
            "description_tooltip": null,
            "layout": "IPY_MODEL_088b86206f8e4383a9cbba5dd4bc3cc9",
            "placeholder": "​",
            "style": "IPY_MODEL_c0379a40336445f88b65062b33449ca1",
            "value": "train-00000-of-00001.parquet: 100%"
          }
        },
        "5f67f3e517a04a82a5bb256bf265eadf": {
          "model_module": "@jupyter-widgets/controls",
          "model_name": "FloatProgressModel",
          "model_module_version": "1.5.0",
          "state": {
            "_dom_classes": [],
            "_model_module": "@jupyter-widgets/controls",
            "_model_module_version": "1.5.0",
            "_model_name": "FloatProgressModel",
            "_view_count": null,
            "_view_module": "@jupyter-widgets/controls",
            "_view_module_version": "1.5.0",
            "_view_name": "ProgressView",
            "bar_style": "success",
            "description": "",
            "description_tooltip": null,
            "layout": "IPY_MODEL_0bce0e1f6f8441e9acf3d87a37284a99",
            "max": 2648082,
            "min": 0,
            "orientation": "horizontal",
            "style": "IPY_MODEL_c43031b614e84be49ec5101edd2ba44d",
            "value": 2648082
          }
        },
        "1618cacdf0dd43969ea4cf2368fd4b73": {
          "model_module": "@jupyter-widgets/controls",
          "model_name": "HTMLModel",
          "model_module_version": "1.5.0",
          "state": {
            "_dom_classes": [],
            "_model_module": "@jupyter-widgets/controls",
            "_model_module_version": "1.5.0",
            "_model_name": "HTMLModel",
            "_view_count": null,
            "_view_module": "@jupyter-widgets/controls",
            "_view_module_version": "1.5.0",
            "_view_name": "HTMLView",
            "description": "",
            "description_tooltip": null,
            "layout": "IPY_MODEL_25ce029e921f45479f1e786877577d10",
            "placeholder": "​",
            "style": "IPY_MODEL_97941d3c244843fbbb340758204500df",
            "value": " 2.65M/2.65M [00:00&lt;00:00, 8.29MB/s]"
          }
        },
        "411799dd74ad4c059fb8e7928ec75903": {
          "model_module": "@jupyter-widgets/base",
          "model_name": "LayoutModel",
          "model_module_version": "1.2.0",
          "state": {
            "_model_module": "@jupyter-widgets/base",
            "_model_module_version": "1.2.0",
            "_model_name": "LayoutModel",
            "_view_count": null,
            "_view_module": "@jupyter-widgets/base",
            "_view_module_version": "1.2.0",
            "_view_name": "LayoutView",
            "align_content": null,
            "align_items": null,
            "align_self": null,
            "border": null,
            "bottom": null,
            "display": null,
            "flex": null,
            "flex_flow": null,
            "grid_area": null,
            "grid_auto_columns": null,
            "grid_auto_flow": null,
            "grid_auto_rows": null,
            "grid_column": null,
            "grid_gap": null,
            "grid_row": null,
            "grid_template_areas": null,
            "grid_template_columns": null,
            "grid_template_rows": null,
            "height": null,
            "justify_content": null,
            "justify_items": null,
            "left": null,
            "margin": null,
            "max_height": null,
            "max_width": null,
            "min_height": null,
            "min_width": null,
            "object_fit": null,
            "object_position": null,
            "order": null,
            "overflow": null,
            "overflow_x": null,
            "overflow_y": null,
            "padding": null,
            "right": null,
            "top": null,
            "visibility": null,
            "width": null
          }
        },
        "088b86206f8e4383a9cbba5dd4bc3cc9": {
          "model_module": "@jupyter-widgets/base",
          "model_name": "LayoutModel",
          "model_module_version": "1.2.0",
          "state": {
            "_model_module": "@jupyter-widgets/base",
            "_model_module_version": "1.2.0",
            "_model_name": "LayoutModel",
            "_view_count": null,
            "_view_module": "@jupyter-widgets/base",
            "_view_module_version": "1.2.0",
            "_view_name": "LayoutView",
            "align_content": null,
            "align_items": null,
            "align_self": null,
            "border": null,
            "bottom": null,
            "display": null,
            "flex": null,
            "flex_flow": null,
            "grid_area": null,
            "grid_auto_columns": null,
            "grid_auto_flow": null,
            "grid_auto_rows": null,
            "grid_column": null,
            "grid_gap": null,
            "grid_row": null,
            "grid_template_areas": null,
            "grid_template_columns": null,
            "grid_template_rows": null,
            "height": null,
            "justify_content": null,
            "justify_items": null,
            "left": null,
            "margin": null,
            "max_height": null,
            "max_width": null,
            "min_height": null,
            "min_width": null,
            "object_fit": null,
            "object_position": null,
            "order": null,
            "overflow": null,
            "overflow_x": null,
            "overflow_y": null,
            "padding": null,
            "right": null,
            "top": null,
            "visibility": null,
            "width": null
          }
        },
        "c0379a40336445f88b65062b33449ca1": {
          "model_module": "@jupyter-widgets/controls",
          "model_name": "DescriptionStyleModel",
          "model_module_version": "1.5.0",
          "state": {
            "_model_module": "@jupyter-widgets/controls",
            "_model_module_version": "1.5.0",
            "_model_name": "DescriptionStyleModel",
            "_view_count": null,
            "_view_module": "@jupyter-widgets/base",
            "_view_module_version": "1.2.0",
            "_view_name": "StyleView",
            "description_width": ""
          }
        },
        "0bce0e1f6f8441e9acf3d87a37284a99": {
          "model_module": "@jupyter-widgets/base",
          "model_name": "LayoutModel",
          "model_module_version": "1.2.0",
          "state": {
            "_model_module": "@jupyter-widgets/base",
            "_model_module_version": "1.2.0",
            "_model_name": "LayoutModel",
            "_view_count": null,
            "_view_module": "@jupyter-widgets/base",
            "_view_module_version": "1.2.0",
            "_view_name": "LayoutView",
            "align_content": null,
            "align_items": null,
            "align_self": null,
            "border": null,
            "bottom": null,
            "display": null,
            "flex": null,
            "flex_flow": null,
            "grid_area": null,
            "grid_auto_columns": null,
            "grid_auto_flow": null,
            "grid_auto_rows": null,
            "grid_column": null,
            "grid_gap": null,
            "grid_row": null,
            "grid_template_areas": null,
            "grid_template_columns": null,
            "grid_template_rows": null,
            "height": null,
            "justify_content": null,
            "justify_items": null,
            "left": null,
            "margin": null,
            "max_height": null,
            "max_width": null,
            "min_height": null,
            "min_width": null,
            "object_fit": null,
            "object_position": null,
            "order": null,
            "overflow": null,
            "overflow_x": null,
            "overflow_y": null,
            "padding": null,
            "right": null,
            "top": null,
            "visibility": null,
            "width": null
          }
        },
        "c43031b614e84be49ec5101edd2ba44d": {
          "model_module": "@jupyter-widgets/controls",
          "model_name": "ProgressStyleModel",
          "model_module_version": "1.5.0",
          "state": {
            "_model_module": "@jupyter-widgets/controls",
            "_model_module_version": "1.5.0",
            "_model_name": "ProgressStyleModel",
            "_view_count": null,
            "_view_module": "@jupyter-widgets/base",
            "_view_module_version": "1.2.0",
            "_view_name": "StyleView",
            "bar_color": null,
            "description_width": ""
          }
        },
        "25ce029e921f45479f1e786877577d10": {
          "model_module": "@jupyter-widgets/base",
          "model_name": "LayoutModel",
          "model_module_version": "1.2.0",
          "state": {
            "_model_module": "@jupyter-widgets/base",
            "_model_module_version": "1.2.0",
            "_model_name": "LayoutModel",
            "_view_count": null,
            "_view_module": "@jupyter-widgets/base",
            "_view_module_version": "1.2.0",
            "_view_name": "LayoutView",
            "align_content": null,
            "align_items": null,
            "align_self": null,
            "border": null,
            "bottom": null,
            "display": null,
            "flex": null,
            "flex_flow": null,
            "grid_area": null,
            "grid_auto_columns": null,
            "grid_auto_flow": null,
            "grid_auto_rows": null,
            "grid_column": null,
            "grid_gap": null,
            "grid_row": null,
            "grid_template_areas": null,
            "grid_template_columns": null,
            "grid_template_rows": null,
            "height": null,
            "justify_content": null,
            "justify_items": null,
            "left": null,
            "margin": null,
            "max_height": null,
            "max_width": null,
            "min_height": null,
            "min_width": null,
            "object_fit": null,
            "object_position": null,
            "order": null,
            "overflow": null,
            "overflow_x": null,
            "overflow_y": null,
            "padding": null,
            "right": null,
            "top": null,
            "visibility": null,
            "width": null
          }
        },
        "97941d3c244843fbbb340758204500df": {
          "model_module": "@jupyter-widgets/controls",
          "model_name": "DescriptionStyleModel",
          "model_module_version": "1.5.0",
          "state": {
            "_model_module": "@jupyter-widgets/controls",
            "_model_module_version": "1.5.0",
            "_model_name": "DescriptionStyleModel",
            "_view_count": null,
            "_view_module": "@jupyter-widgets/base",
            "_view_module_version": "1.2.0",
            "_view_name": "StyleView",
            "description_width": ""
          }
        },
        "5ab8293388c04baf875eefc3bccbcfa9": {
          "model_module": "@jupyter-widgets/controls",
          "model_name": "HBoxModel",
          "model_module_version": "1.5.0",
          "state": {
            "_dom_classes": [],
            "_model_module": "@jupyter-widgets/controls",
            "_model_module_version": "1.5.0",
            "_model_name": "HBoxModel",
            "_view_count": null,
            "_view_module": "@jupyter-widgets/controls",
            "_view_module_version": "1.5.0",
            "_view_name": "HBoxView",
            "box_style": "",
            "children": [
              "IPY_MODEL_042d598ec6884d61a03e61f3d653fe61",
              "IPY_MODEL_d865eab541894ef1b4d040b9b3130940",
              "IPY_MODEL_7ccb6e76c0b8458fa64d427b0888b6ca"
            ],
            "layout": "IPY_MODEL_9741123fe01246998b234797f2990c9d"
          }
        },
        "042d598ec6884d61a03e61f3d653fe61": {
          "model_module": "@jupyter-widgets/controls",
          "model_name": "HTMLModel",
          "model_module_version": "1.5.0",
          "state": {
            "_dom_classes": [],
            "_model_module": "@jupyter-widgets/controls",
            "_model_module_version": "1.5.0",
            "_model_name": "HTMLModel",
            "_view_count": null,
            "_view_module": "@jupyter-widgets/controls",
            "_view_module_version": "1.5.0",
            "_view_name": "HTMLView",
            "description": "",
            "description_tooltip": null,
            "layout": "IPY_MODEL_3887303bf6724d28b3f5fe0ca5763088",
            "placeholder": "​",
            "style": "IPY_MODEL_0e95c0f34ae9465bac0da3af77d4205e",
            "value": "Generating train split: 100%"
          }
        },
        "d865eab541894ef1b4d040b9b3130940": {
          "model_module": "@jupyter-widgets/controls",
          "model_name": "FloatProgressModel",
          "model_module_version": "1.5.0",
          "state": {
            "_dom_classes": [],
            "_model_module": "@jupyter-widgets/controls",
            "_model_module_version": "1.5.0",
            "_model_name": "FloatProgressModel",
            "_view_count": null,
            "_view_module": "@jupyter-widgets/controls",
            "_view_module_version": "1.5.0",
            "_view_name": "ProgressView",
            "bar_style": "success",
            "description": "",
            "description_tooltip": null,
            "layout": "IPY_MODEL_f8b1f90201ba44ae97a9f74674072b99",
            "max": 38091,
            "min": 0,
            "orientation": "horizontal",
            "style": "IPY_MODEL_68ef791f74e4477c8d0efbf1641ff0c4",
            "value": 38091
          }
        },
        "7ccb6e76c0b8458fa64d427b0888b6ca": {
          "model_module": "@jupyter-widgets/controls",
          "model_name": "HTMLModel",
          "model_module_version": "1.5.0",
          "state": {
            "_dom_classes": [],
            "_model_module": "@jupyter-widgets/controls",
            "_model_module_version": "1.5.0",
            "_model_name": "HTMLModel",
            "_view_count": null,
            "_view_module": "@jupyter-widgets/controls",
            "_view_module_version": "1.5.0",
            "_view_name": "HTMLView",
            "description": "",
            "description_tooltip": null,
            "layout": "IPY_MODEL_cd1a17a40ea64571a951c44dbf930d7c",
            "placeholder": "​",
            "style": "IPY_MODEL_be942667616a439fafb5afb00c3d257b",
            "value": " 38091/38091 [00:00&lt;00:00, 286143.78 examples/s]"
          }
        },
        "9741123fe01246998b234797f2990c9d": {
          "model_module": "@jupyter-widgets/base",
          "model_name": "LayoutModel",
          "model_module_version": "1.2.0",
          "state": {
            "_model_module": "@jupyter-widgets/base",
            "_model_module_version": "1.2.0",
            "_model_name": "LayoutModel",
            "_view_count": null,
            "_view_module": "@jupyter-widgets/base",
            "_view_module_version": "1.2.0",
            "_view_name": "LayoutView",
            "align_content": null,
            "align_items": null,
            "align_self": null,
            "border": null,
            "bottom": null,
            "display": null,
            "flex": null,
            "flex_flow": null,
            "grid_area": null,
            "grid_auto_columns": null,
            "grid_auto_flow": null,
            "grid_auto_rows": null,
            "grid_column": null,
            "grid_gap": null,
            "grid_row": null,
            "grid_template_areas": null,
            "grid_template_columns": null,
            "grid_template_rows": null,
            "height": null,
            "justify_content": null,
            "justify_items": null,
            "left": null,
            "margin": null,
            "max_height": null,
            "max_width": null,
            "min_height": null,
            "min_width": null,
            "object_fit": null,
            "object_position": null,
            "order": null,
            "overflow": null,
            "overflow_x": null,
            "overflow_y": null,
            "padding": null,
            "right": null,
            "top": null,
            "visibility": null,
            "width": null
          }
        },
        "3887303bf6724d28b3f5fe0ca5763088": {
          "model_module": "@jupyter-widgets/base",
          "model_name": "LayoutModel",
          "model_module_version": "1.2.0",
          "state": {
            "_model_module": "@jupyter-widgets/base",
            "_model_module_version": "1.2.0",
            "_model_name": "LayoutModel",
            "_view_count": null,
            "_view_module": "@jupyter-widgets/base",
            "_view_module_version": "1.2.0",
            "_view_name": "LayoutView",
            "align_content": null,
            "align_items": null,
            "align_self": null,
            "border": null,
            "bottom": null,
            "display": null,
            "flex": null,
            "flex_flow": null,
            "grid_area": null,
            "grid_auto_columns": null,
            "grid_auto_flow": null,
            "grid_auto_rows": null,
            "grid_column": null,
            "grid_gap": null,
            "grid_row": null,
            "grid_template_areas": null,
            "grid_template_columns": null,
            "grid_template_rows": null,
            "height": null,
            "justify_content": null,
            "justify_items": null,
            "left": null,
            "margin": null,
            "max_height": null,
            "max_width": null,
            "min_height": null,
            "min_width": null,
            "object_fit": null,
            "object_position": null,
            "order": null,
            "overflow": null,
            "overflow_x": null,
            "overflow_y": null,
            "padding": null,
            "right": null,
            "top": null,
            "visibility": null,
            "width": null
          }
        },
        "0e95c0f34ae9465bac0da3af77d4205e": {
          "model_module": "@jupyter-widgets/controls",
          "model_name": "DescriptionStyleModel",
          "model_module_version": "1.5.0",
          "state": {
            "_model_module": "@jupyter-widgets/controls",
            "_model_module_version": "1.5.0",
            "_model_name": "DescriptionStyleModel",
            "_view_count": null,
            "_view_module": "@jupyter-widgets/base",
            "_view_module_version": "1.2.0",
            "_view_name": "StyleView",
            "description_width": ""
          }
        },
        "f8b1f90201ba44ae97a9f74674072b99": {
          "model_module": "@jupyter-widgets/base",
          "model_name": "LayoutModel",
          "model_module_version": "1.2.0",
          "state": {
            "_model_module": "@jupyter-widgets/base",
            "_model_module_version": "1.2.0",
            "_model_name": "LayoutModel",
            "_view_count": null,
            "_view_module": "@jupyter-widgets/base",
            "_view_module_version": "1.2.0",
            "_view_name": "LayoutView",
            "align_content": null,
            "align_items": null,
            "align_self": null,
            "border": null,
            "bottom": null,
            "display": null,
            "flex": null,
            "flex_flow": null,
            "grid_area": null,
            "grid_auto_columns": null,
            "grid_auto_flow": null,
            "grid_auto_rows": null,
            "grid_column": null,
            "grid_gap": null,
            "grid_row": null,
            "grid_template_areas": null,
            "grid_template_columns": null,
            "grid_template_rows": null,
            "height": null,
            "justify_content": null,
            "justify_items": null,
            "left": null,
            "margin": null,
            "max_height": null,
            "max_width": null,
            "min_height": null,
            "min_width": null,
            "object_fit": null,
            "object_position": null,
            "order": null,
            "overflow": null,
            "overflow_x": null,
            "overflow_y": null,
            "padding": null,
            "right": null,
            "top": null,
            "visibility": null,
            "width": null
          }
        },
        "68ef791f74e4477c8d0efbf1641ff0c4": {
          "model_module": "@jupyter-widgets/controls",
          "model_name": "ProgressStyleModel",
          "model_module_version": "1.5.0",
          "state": {
            "_model_module": "@jupyter-widgets/controls",
            "_model_module_version": "1.5.0",
            "_model_name": "ProgressStyleModel",
            "_view_count": null,
            "_view_module": "@jupyter-widgets/base",
            "_view_module_version": "1.2.0",
            "_view_name": "StyleView",
            "bar_color": null,
            "description_width": ""
          }
        },
        "cd1a17a40ea64571a951c44dbf930d7c": {
          "model_module": "@jupyter-widgets/base",
          "model_name": "LayoutModel",
          "model_module_version": "1.2.0",
          "state": {
            "_model_module": "@jupyter-widgets/base",
            "_model_module_version": "1.2.0",
            "_model_name": "LayoutModel",
            "_view_count": null,
            "_view_module": "@jupyter-widgets/base",
            "_view_module_version": "1.2.0",
            "_view_name": "LayoutView",
            "align_content": null,
            "align_items": null,
            "align_self": null,
            "border": null,
            "bottom": null,
            "display": null,
            "flex": null,
            "flex_flow": null,
            "grid_area": null,
            "grid_auto_columns": null,
            "grid_auto_flow": null,
            "grid_auto_rows": null,
            "grid_column": null,
            "grid_gap": null,
            "grid_row": null,
            "grid_template_areas": null,
            "grid_template_columns": null,
            "grid_template_rows": null,
            "height": null,
            "justify_content": null,
            "justify_items": null,
            "left": null,
            "margin": null,
            "max_height": null,
            "max_width": null,
            "min_height": null,
            "min_width": null,
            "object_fit": null,
            "object_position": null,
            "order": null,
            "overflow": null,
            "overflow_x": null,
            "overflow_y": null,
            "padding": null,
            "right": null,
            "top": null,
            "visibility": null,
            "width": null
          }
        },
        "be942667616a439fafb5afb00c3d257b": {
          "model_module": "@jupyter-widgets/controls",
          "model_name": "DescriptionStyleModel",
          "model_module_version": "1.5.0",
          "state": {
            "_model_module": "@jupyter-widgets/controls",
            "_model_module_version": "1.5.0",
            "_model_name": "DescriptionStyleModel",
            "_view_count": null,
            "_view_module": "@jupyter-widgets/base",
            "_view_module_version": "1.2.0",
            "_view_name": "StyleView",
            "description_width": ""
          }
        }
      }
    }
  },
  "cells": [
    {
      "cell_type": "markdown",
      "source": [
        "Colab Setup, Library Imports"
      ],
      "metadata": {
        "id": "BM0qBtm2Px79"
      }
    },
    {
      "cell_type": "code",
      "source": [
        "from google.colab import drive\n",
        "\n",
        "import pandas as pd\n",
        "import numpy as np\n",
        "import json\n",
        "import re\n",
        "import string\n",
        "!pip install datasets\n",
        "from datasets import load_dataset\n",
        "\n",
        "import matplotlib.pyplot as plt\n",
        "import seaborn as sns\n",
        "from collections import Counter\n",
        "\n",
        "import nltk\n",
        "nltk.download('punkt')\n",
        "nltk.download('stopwords')\n",
        "nltk.download('wordnet')\n",
        "nltk.download('omw-1.4')\n",
        "nltk.download('punkt_tab')\n",
        "\n",
        "from nltk.tokenize import word_tokenize\n"
      ],
      "metadata": {
        "colab": {
          "base_uri": "https://localhost:8080/"
        },
        "id": "DiHSrDDvP7Ca",
        "outputId": "0f6dece1-d419-4d7f-e91a-f638cfa6db22"
      },
      "execution_count": 3,
      "outputs": [
        {
          "output_type": "stream",
          "name": "stdout",
          "text": [
            "Requirement already satisfied: datasets in /usr/local/lib/python3.11/dist-packages (3.5.1)\n",
            "Requirement already satisfied: filelock in /usr/local/lib/python3.11/dist-packages (from datasets) (3.18.0)\n",
            "Requirement already satisfied: numpy>=1.17 in /usr/local/lib/python3.11/dist-packages (from datasets) (2.0.2)\n",
            "Requirement already satisfied: pyarrow>=15.0.0 in /usr/local/lib/python3.11/dist-packages (from datasets) (18.1.0)\n",
            "Requirement already satisfied: dill<0.3.9,>=0.3.0 in /usr/local/lib/python3.11/dist-packages (from datasets) (0.3.8)\n",
            "Requirement already satisfied: pandas in /usr/local/lib/python3.11/dist-packages (from datasets) (2.2.2)\n",
            "Requirement already satisfied: requests>=2.32.2 in /usr/local/lib/python3.11/dist-packages (from datasets) (2.32.3)\n",
            "Requirement already satisfied: tqdm>=4.66.3 in /usr/local/lib/python3.11/dist-packages (from datasets) (4.67.1)\n",
            "Requirement already satisfied: xxhash in /usr/local/lib/python3.11/dist-packages (from datasets) (3.5.0)\n",
            "Requirement already satisfied: multiprocess<0.70.17 in /usr/local/lib/python3.11/dist-packages (from datasets) (0.70.16)\n",
            "Requirement already satisfied: fsspec<=2025.3.0,>=2023.1.0 in /usr/local/lib/python3.11/dist-packages (from fsspec[http]<=2025.3.0,>=2023.1.0->datasets) (2025.3.0)\n",
            "Requirement already satisfied: aiohttp in /usr/local/lib/python3.11/dist-packages (from datasets) (3.11.15)\n",
            "Requirement already satisfied: huggingface-hub>=0.24.0 in /usr/local/lib/python3.11/dist-packages (from datasets) (0.30.2)\n",
            "Requirement already satisfied: packaging in /usr/local/lib/python3.11/dist-packages (from datasets) (24.2)\n",
            "Requirement already satisfied: pyyaml>=5.1 in /usr/local/lib/python3.11/dist-packages (from datasets) (6.0.2)\n",
            "Requirement already satisfied: aiohappyeyeballs>=2.3.0 in /usr/local/lib/python3.11/dist-packages (from aiohttp->datasets) (2.6.1)\n",
            "Requirement already satisfied: aiosignal>=1.1.2 in /usr/local/lib/python3.11/dist-packages (from aiohttp->datasets) (1.3.2)\n",
            "Requirement already satisfied: attrs>=17.3.0 in /usr/local/lib/python3.11/dist-packages (from aiohttp->datasets) (25.3.0)\n",
            "Requirement already satisfied: frozenlist>=1.1.1 in /usr/local/lib/python3.11/dist-packages (from aiohttp->datasets) (1.6.0)\n",
            "Requirement already satisfied: multidict<7.0,>=4.5 in /usr/local/lib/python3.11/dist-packages (from aiohttp->datasets) (6.4.3)\n",
            "Requirement already satisfied: propcache>=0.2.0 in /usr/local/lib/python3.11/dist-packages (from aiohttp->datasets) (0.3.1)\n",
            "Requirement already satisfied: yarl<2.0,>=1.17.0 in /usr/local/lib/python3.11/dist-packages (from aiohttp->datasets) (1.20.0)\n",
            "Requirement already satisfied: typing-extensions>=3.7.4.3 in /usr/local/lib/python3.11/dist-packages (from huggingface-hub>=0.24.0->datasets) (4.13.2)\n",
            "Requirement already satisfied: charset-normalizer<4,>=2 in /usr/local/lib/python3.11/dist-packages (from requests>=2.32.2->datasets) (3.4.1)\n",
            "Requirement already satisfied: idna<4,>=2.5 in /usr/local/lib/python3.11/dist-packages (from requests>=2.32.2->datasets) (3.10)\n",
            "Requirement already satisfied: urllib3<3,>=1.21.1 in /usr/local/lib/python3.11/dist-packages (from requests>=2.32.2->datasets) (2.4.0)\n",
            "Requirement already satisfied: certifi>=2017.4.17 in /usr/local/lib/python3.11/dist-packages (from requests>=2.32.2->datasets) (2025.4.26)\n",
            "Requirement already satisfied: python-dateutil>=2.8.2 in /usr/local/lib/python3.11/dist-packages (from pandas->datasets) (2.9.0.post0)\n",
            "Requirement already satisfied: pytz>=2020.1 in /usr/local/lib/python3.11/dist-packages (from pandas->datasets) (2025.2)\n",
            "Requirement already satisfied: tzdata>=2022.7 in /usr/local/lib/python3.11/dist-packages (from pandas->datasets) (2025.2)\n",
            "Requirement already satisfied: six>=1.5 in /usr/local/lib/python3.11/dist-packages (from python-dateutil>=2.8.2->pandas->datasets) (1.17.0)\n"
          ]
        },
        {
          "output_type": "stream",
          "name": "stderr",
          "text": [
            "[nltk_data] Downloading package punkt to /root/nltk_data...\n",
            "[nltk_data]   Package punkt is already up-to-date!\n",
            "[nltk_data] Downloading package stopwords to /root/nltk_data...\n",
            "[nltk_data]   Package stopwords is already up-to-date!\n",
            "[nltk_data] Downloading package wordnet to /root/nltk_data...\n",
            "[nltk_data]   Package wordnet is already up-to-date!\n",
            "[nltk_data] Downloading package omw-1.4 to /root/nltk_data...\n",
            "[nltk_data]   Package omw-1.4 is already up-to-date!\n",
            "[nltk_data] Downloading package punkt_tab to /root/nltk_data...\n",
            "[nltk_data]   Package punkt_tab is already up-to-date!\n"
          ]
        }
      ]
    },
    {
      "cell_type": "markdown",
      "source": [
        "## Load Both Datasets in Compatible Format"
      ],
      "metadata": {
        "id": "Wq2veYp6UP1u"
      }
    },
    {
      "cell_type": "code",
      "source": [
        "data1 = pd.read_csv('/content/drive/MyDrive/Machine Learning/data.csv')\n",
        "\n",
        "data1.rename(columns={'text': 'Sentence', 'sentiment': 'Sentiment'}, inplace=True)\n",
        "data1 = data1.dropna(subset=['Sentence'])\n",
        "\n",
        "print(\"Dataset 1 Columns:\", data1.columns.tolist())\n",
        "ds = load_dataset(\"TimKoornstra/financial-tweets-sentiment\")\n",
        "data2_raw = ds['train'].to_pandas()\n",
        "\n",
        "data2 = data2_raw.drop(columns=['url'])\n",
        "data2.rename(columns={'tweet': 'Sentence', 'sentiment': 'Sentiment'}, inplace=True)\n",
        "data2 = data2.dropna(subset=['Sentence', 'Sentiment'])\n",
        "\n",
        "print(\"Dataset 2 Columns:\", data2.columns.tolist())\n"
      ],
      "metadata": {
        "id": "jgN7XJFAUS42",
        "colab": {
          "base_uri": "https://localhost:8080/",
          "height": 272,
          "referenced_widgets": [
            "3f70fdf63a8b4b219720ec44ab9aa84d",
            "21e680925e8142bfb8c90af4a99da773",
            "4fa5a9fb569143acae6a96cdb54d4754",
            "b3fe66aa01ee41b18859a0c46271eff5",
            "5c6121fabbb94c149bdc9127e90a0100",
            "3678fa5295d348b9b6698b5e8b814ae6",
            "54e97d758d25477bb859ade773cf1387",
            "347cf12566eb4c37bfdc57fe2a8b4785",
            "512109f9b83444f2aaea9da8065460b6",
            "88b33d82bfa640949e98c080dcfb1201",
            "9073b1db8a6548c2a34dea9fff111e0b",
            "f7b54b39066843be8cf785fb688eb018",
            "8e36b8ef5d5e49e8bc813f1dc7a35f28",
            "5f67f3e517a04a82a5bb256bf265eadf",
            "1618cacdf0dd43969ea4cf2368fd4b73",
            "411799dd74ad4c059fb8e7928ec75903",
            "088b86206f8e4383a9cbba5dd4bc3cc9",
            "c0379a40336445f88b65062b33449ca1",
            "0bce0e1f6f8441e9acf3d87a37284a99",
            "c43031b614e84be49ec5101edd2ba44d",
            "25ce029e921f45479f1e786877577d10",
            "97941d3c244843fbbb340758204500df",
            "5ab8293388c04baf875eefc3bccbcfa9",
            "042d598ec6884d61a03e61f3d653fe61",
            "d865eab541894ef1b4d040b9b3130940",
            "7ccb6e76c0b8458fa64d427b0888b6ca",
            "9741123fe01246998b234797f2990c9d",
            "3887303bf6724d28b3f5fe0ca5763088",
            "0e95c0f34ae9465bac0da3af77d4205e",
            "f8b1f90201ba44ae97a9f74674072b99",
            "68ef791f74e4477c8d0efbf1641ff0c4",
            "cd1a17a40ea64571a951c44dbf930d7c",
            "be942667616a439fafb5afb00c3d257b"
          ]
        },
        "outputId": "a9a0d34c-5b38-46cb-e120-79bfbc588042"
      },
      "execution_count": 4,
      "outputs": [
        {
          "output_type": "stream",
          "name": "stdout",
          "text": [
            "Dataset 1 Columns: ['Sentence', 'Sentiment']\n"
          ]
        },
        {
          "output_type": "stream",
          "name": "stderr",
          "text": [
            "/usr/local/lib/python3.11/dist-packages/huggingface_hub/utils/_auth.py:94: UserWarning: \n",
            "The secret `HF_TOKEN` does not exist in your Colab secrets.\n",
            "To authenticate with the Hugging Face Hub, create a token in your settings tab (https://huggingface.co/settings/tokens), set it as secret in your Google Colab and restart your session.\n",
            "You will be able to reuse this secret in all of your notebooks.\n",
            "Please note that authentication is recommended but still optional to access public models or datasets.\n",
            "  warnings.warn(\n"
          ]
        },
        {
          "output_type": "display_data",
          "data": {
            "text/plain": [
              "README.md:   0%|          | 0.00/4.21k [00:00<?, ?B/s]"
            ],
            "application/vnd.jupyter.widget-view+json": {
              "version_major": 2,
              "version_minor": 0,
              "model_id": "3f70fdf63a8b4b219720ec44ab9aa84d"
            }
          },
          "metadata": {}
        },
        {
          "output_type": "display_data",
          "data": {
            "text/plain": [
              "train-00000-of-00001.parquet:   0%|          | 0.00/2.65M [00:00<?, ?B/s]"
            ],
            "application/vnd.jupyter.widget-view+json": {
              "version_major": 2,
              "version_minor": 0,
              "model_id": "f7b54b39066843be8cf785fb688eb018"
            }
          },
          "metadata": {}
        },
        {
          "output_type": "display_data",
          "data": {
            "text/plain": [
              "Generating train split:   0%|          | 0/38091 [00:00<?, ? examples/s]"
            ],
            "application/vnd.jupyter.widget-view+json": {
              "version_major": 2,
              "version_minor": 0,
              "model_id": "5ab8293388c04baf875eefc3bccbcfa9"
            }
          },
          "metadata": {}
        },
        {
          "output_type": "stream",
          "name": "stdout",
          "text": [
            "Dataset 2 Columns: ['Sentence', 'Sentiment']\n"
          ]
        }
      ]
    },
    {
      "cell_type": "markdown",
      "source": [
        "# Dataset 1"
      ],
      "metadata": {
        "id": "f4JdjlDHQSil"
      }
    },
    {
      "cell_type": "markdown",
      "source": [
        "### Preprocessing Dataset 1"
      ],
      "metadata": {
        "id": "WKBi1XNFRJvQ"
      }
    },
    {
      "cell_type": "code",
      "source": [
        "import re\n",
        "import string\n",
        "from nltk.tokenize import word_tokenize\n",
        "from nltk.stem import WordNetLemmatizer\n",
        "from nltk.corpus import stopwords\n",
        "\n",
        "# Initialize tools\n",
        "lemmatizer = WordNetLemmatizer()\n",
        "stop_words = set(stopwords.words('english'))\n",
        "financial_stopwords = {'rt', 'via', 'amp', 'stock', 'stocks', 'market', 'markets'}\n",
        "\n",
        "def preprocess_financial_text(text):\n",
        "\n",
        "    text = text.lower()\n",
        "    text = re.sub(r'http\\S+|www\\S+|https\\S+', '', text)\n",
        "    text = re.sub(r'@\\w+', '', text)\n",
        "\n",
        "    # Handle ticker symbols ($AAPL → aapl)\n",
        "    text = re.sub(r'\\$([a-zA-Z]+)', r'\\1', text)\n",
        "\n",
        "    # Handle percentages (25% → 25percent)\n",
        "    text = re.sub(r'(\\d+)%', r'\\1percent', text)\n",
        "    text = re.sub(r'[^\\w\\s.%$]', '', text)\n",
        "\n",
        "    tokens = word_tokenize(text)\n",
        "    cleaned = []\n",
        "\n",
        "    for word in tokens:\n",
        "        if word in stop_words or word in financial_stopwords or len(word) < 3:\n",
        "            continue\n",
        "        word = lemmatizer.lemmatize(word)\n",
        "\n",
        "        # Keep words, numbers, and financial markers\n",
        "        if word.isalpha() or word.isdigit() or 'percent' in word:\n",
        "            cleaned.append(word)\n",
        "\n",
        "    return ' '.join(cleaned)\n",
        "\n",
        "print(\"Original data1 sample:\")\n",
        "print(data1[['Sentence']].head(3))\n",
        "\n",
        "data1['Cleaned'] = data1['Sentence'].apply(preprocess_financial_text)\n",
        "\n",
        "# Show before/after comparison\n",
        "print(\"\\nPreprocessed data1 sample:\")\n",
        "print(data1[['Sentence', 'Cleaned']].head(3))\n",
        "\n",
        "# Calculate statistics\n",
        "original_length = data1['Sentence'].apply(lambda x: len(word_tokenize(x))).mean()\n",
        "cleaned_length = data1['Cleaned'].apply(lambda x: len(word_tokenize(x))).mean()\n",
        "reduction_pct = (1 - cleaned_length/original_length) * 100\n",
        "\n",
        "print(f\"\\nPreprocessing stats:\")\n",
        "print(f\"Avg original length: {original_length:.1f} words\")\n",
        "print(f\"Avg cleaned length: {cleaned_length:.1f} words\")\n",
        "print(f\"Reduction: {reduction_pct:.1f}%\")\n",
        "\n",
        "# Check for empty results\n",
        "empty_cleaned = data1[data1['Cleaned'].str.len() == 0]\n",
        "print(f\"\\nFound {len(empty_cleaned)} empty results after cleaning\")\n",
        "if not empty_cleaned.empty:\n",
        "    print(\"Sample affected rows:\")\n",
        "    print(empty_cleaned[['Sentence', 'Cleaned']].head(3))"
      ],
      "metadata": {
        "id": "VCcMXR-SROH5",
        "colab": {
          "base_uri": "https://localhost:8080/"
        },
        "outputId": "041fbf38-d66a-43ae-f1aa-c918ad247dd7"
      },
      "execution_count": 5,
      "outputs": [
        {
          "output_type": "stream",
          "name": "stdout",
          "text": [
            "Original data1 sample:\n",
            "                                            Sentence\n",
            "0  The GeoSolutions technology will leverage Bene...\n",
            "1  $ESI on lows, down $1.50 to $2.50 BK a real po...\n",
            "2  For the last quarter of 2010 , Componenta 's n...\n",
            "\n",
            "Preprocessed data1 sample:\n",
            "                                            Sentence  \\\n",
            "0  The GeoSolutions technology will leverage Bene...   \n",
            "1  $ESI on lows, down $1.50 to $2.50 BK a real po...   \n",
            "2  For the last quarter of 2010 , Componenta 's n...   \n",
            "\n",
            "                                             Cleaned  \n",
            "0  geosolutions technology leverage benefon gps s...  \n",
            "1                           esi low real possibility  \n",
            "2  last quarter 2010 componenta net sale doubled ...  \n",
            "\n",
            "Preprocessing stats:\n",
            "Avg original length: 21.6 words\n",
            "Avg cleaned length: 11.0 words\n",
            "Reduction: 48.8%\n",
            "\n",
            "Found 1 empty results after cleaning\n",
            "Sample affected rows:\n",
            "        Sentence Cleaned\n",
            "921  It 's not .        \n"
          ]
        }
      ]
    },
    {
      "cell_type": "markdown",
      "source": [
        "## Analaysis"
      ],
      "metadata": {
        "id": "3QRKC8aPU9uw"
      }
    },
    {
      "cell_type": "code",
      "source": [
        "# Sentence lengths before and after preprocessing\n",
        "data1['Original_Length'] = data1['Sentence'].apply(lambda x: len(word_tokenize(x)))\n",
        "data1['Cleaned_Length'] = data1['Cleaned'].apply(lambda x: len(word_tokenize(x)))\n",
        "\n",
        "# Plot sentence lengths\n",
        "plt.figure(figsize=(12, 5))\n",
        "sns.histplot(data1['Original_Length'], kde=True, color='skyblue', label='Original')\n",
        "sns.histplot(data1['Cleaned_Length'], kde=True, color='salmon', label='Cleaned')\n",
        "plt.title(\"Sentence Lengths (Original vs Cleaned)\")\n",
        "plt.xlabel(\"Number of Words\")\n",
        "plt.legend()\n",
        "plt.show()\n",
        "\n",
        "# Plot most common words\n",
        "all_words = ' '.join(data1['Cleaned']).split()\n",
        "word_freq = Counter(all_words).most_common(20)\n",
        "\n",
        "plt.figure(figsize=(10, 5))\n",
        "sns.barplot(x=[w[0] for w in word_freq], y=[w[1] for w in word_freq])\n",
        "plt.title(\"Top 20 Most Common Words in Dataset 1\")\n",
        "plt.xticks(rotation=45)\n",
        "plt.show()\n",
        "\n",
        "# Sentiment distribution\n",
        "plt.figure(figsize=(6, 4))\n",
        "sns.countplot(x='Sentiment', data=data1)\n",
        "plt.title(\"Sentiment Distribution in Dataset 1\")\n",
        "plt.xlabel(\"Sentiment Label\")\n",
        "plt.ylabel(\"Count\")\n",
        "plt.show()\n"
      ],
      "metadata": {
        "id": "090sOCuRU_wk",
        "colab": {
          "base_uri": "https://localhost:8080/",
          "height": 1000
        },
        "outputId": "4747040f-35bf-4182-a08a-4fc5d8434bd0"
      },
      "execution_count": 6,
      "outputs": [
        {
          "output_type": "display_data",
          "data": {
            "text/plain": [
              "<Figure size 1200x500 with 1 Axes>"
            ],
            "image/png": "[encoded data removed]"
          },
          "metadata": {}
        },
        {
          "output_type": "display_data",
          "data": {
            "text/plain": [
              "<Figure size 1000x500 with 1 Axes>"
            ],
            "image/png": "[encoded data removed]"
          },
          "metadata": {}
        },
        {
          "output_type": "display_data",
          "data": {
            "text/plain": [
              "<Figure size 600x400 with 1 Axes>"
            ],
            "image/png": "[encoded data removed]"
          },
          "metadata": {}
        }
      ]
    },
    {
      "cell_type": "markdown",
      "source": [
        "# Dataset 2"
      ],
      "metadata": {
        "id": "TPM-Sj5rnahs"
      }
    },
    {
      "cell_type": "markdown",
      "source": [
        "# Preprocessing"
      ],
      "metadata": {
        "id": "B-3iOUPsoBCj"
      }
    },
    {
      "cell_type": "code",
      "source": [
        "data2['Cleaned'] = data2['Sentence'].apply(preprocess_financial_text)\n",
        "\n",
        "print(\"\\n\" + \"=\"*80)\n",
        "print(\"Dataset 2 Financial Text Preprocessing Results\")\n",
        "print(\"=\"*80)\n",
        "print(data2[['Sentence', 'Cleaned']].head(3).to_string(index=False, max_colwidth=60))\n",
        "\n",
        "# Calculate sentence lengths\n",
        "data2['Original_Length'] = data2['Sentence'].apply(lambda x: len(word_tokenize(x)))\n",
        "data2['Cleaned_Length'] = data2['Cleaned'].apply(lambda x: len(word_tokenize(x)))\n",
        "\n",
        "print(\"\\n\" + \"-\"*40)\n",
        "print(\"Preprocessing Statistics:\")\n",
        "print(f\"Original avg length: {data2['Original_Length'].mean():.1f} ± {data2['Original_Length'].std():.1f} words\")\n",
        "print(f\"Cleaned avg length: {data2['Cleaned_Length'].mean():.1f} ± {data2['Cleaned_Length'].std():.1f} words\")\n",
        "print(f\"Vocabulary reduction: {(1 - data2['Cleaned_Length'].mean()/data2['Original_Length'].mean())*100:.1f}%\")\n",
        "\n",
        "# Enhanced empty text check\n",
        "empty_cleaned = data2[data2['Cleaned'].str.strip().str.len() == 0]\n",
        "print(f\"\\nEmpty results check:\")\n",
        "print(f\"Total empty: {len(empty_cleaned)} ({len(empty_cleaned)/len(data2)*100:.2f}%)\")\n",
        "if not empty_cleaned.empty:\n",
        "    print(\"\\nSample problematic texts:\")\n",
        "    for i, row in empty_cleaned.head(3).iterrows():\n",
        "        orig_length = len(word_tokenize(row['Sentence']))\n",
        "        print(f\"Cleaned: [EMPTY] (Original length: {orig_length} words)\")\n",
        "        print(f\"Original text: {row['Sentence']}\")\n",
        "\n",
        "# Quality check for financial terms\n",
        "financial_terms_preserved = data2['Cleaned'].str.contains('_ticker|percent').mean() * 100\n",
        "print(f\"\\nFinancial term preservation: {financial_terms_preserved:.1f}% of texts contain processed financial markers\")"
      ],
      "metadata": {
        "id": "CV_ZEVXboGCW",
        "colab": {
          "base_uri": "https://localhost:8080/"
        },
        "outputId": "15c3432f-93c9-4461-9ba0-89785480a44d"
      },
      "execution_count": 7,
      "outputs": [
        {
          "output_type": "stream",
          "name": "stdout",
          "text": [
            "\n",
            "================================================================================\n",
            "Dataset 2 Financial Text Preprocessing Results\n",
            "================================================================================\n",
            "                                                    Sentence                                                      Cleaned\n",
            "$BYND - JPMorgan reels in expectations on Beyond Meat htt...                   bynd jpmorgan reel expectation beyond meat\n",
            "$CCL $RCL - Nomura points to bookings weakness at Carniva... ccl rcl nomura point booking weakness carnival royal cari...\n",
            "$CX - Cemex cut at Credit Suisse, J.P. Morgan on weak bui...         cemex cut credit suisse morgan weak building outlook\n",
            "\n",
            "----------------------------------------\n",
            "Preprocessing Statistics:\n",
            "Original avg length: 19.6 ± 15.4 words\n",
            "Cleaned avg length: 8.8 ± 6.7 words\n",
            "Vocabulary reduction: 55.1%\n",
            "\n",
            "Empty results check:\n",
            "Total empty: 74 (0.19%)\n",
            "\n",
            "Sample problematic texts:\n",
            "Cleaned: [EMPTY] (Original length: 2 words)\n",
            "Original text: :)\n",
            "Cleaned: [EMPTY] (Original length: 2 words)\n",
            "Original text: @TicToc\n",
            "Cleaned: [EMPTY] (Original length: 12 words)\n",
            "Original text: @tictoc @telefenoticias @teleSUR_Chile @PaoladrateleSUR @monlaferte @inddhh\n",
            "\n",
            "Financial term preservation: 8.2% of texts contain processed financial markers\n"
          ]
        }
      ]
    },
    {
      "cell_type": "markdown",
      "source": [
        "## Analysis"
      ],
      "metadata": {
        "id": "7cJhOVKyqUhl"
      }
    },
    {
      "cell_type": "code",
      "source": [
        "data2['Original_Length'] = data2['Sentence'].apply(lambda x: len(word_tokenize(x)))\n",
        "data2['Cleaned_Length'] = data2['Cleaned'].apply(lambda x: len(word_tokenize(x)))\n",
        "\n",
        "# Plot sentence lengths\n",
        "plt.figure(figsize=(12, 5))\n",
        "sns.histplot(data2['Original_Length'], kde=True, color='skyblue', label='Original')\n",
        "sns.histplot(data2['Cleaned_Length'], kde=True, color='salmon', label='Cleaned')\n",
        "plt.title(\"Sentence Lengths (Original vs Cleaned)\")\n",
        "plt.xlabel(\"Number of Words\")\n",
        "plt.legend()\n",
        "plt.show()\n",
        "\n",
        "# Plot most common words\n",
        "all_words = ' '.join(data2['Cleaned']).split()\n",
        "word_freq = Counter(all_words).most_common(20)\n",
        "\n",
        "plt.figure(figsize=(10, 5))\n",
        "sns.barplot(x=[w[0] for w in word_freq], y=[w[1] for w in word_freq])\n",
        "plt.title(\"Top 20 Most Common Words in Dataset 2\")\n",
        "plt.xticks(rotation=45)\n",
        "plt.show()\n",
        "\n",
        "# Sentiment distribution\n",
        "plt.figure(figsize=(6, 4))\n",
        "sns.countplot(x='Sentiment', data=data2)\n",
        "plt.title(\"Sentiment Distribution in Dataset 2\")\n",
        "plt.xlabel(\"Sentiment Label\")\n",
        "plt.ylabel(\"Count\")\n",
        "plt.show()\n"
      ],
      "metadata": {
        "colab": {
          "base_uri": "https://localhost:8080/",
          "height": 1000
        },
        "id": "5TU4v87kqV9g",
        "outputId": "08939f60-ac83-49a5-cf50-262fffa4837c"
      },
      "execution_count": 12,
      "outputs": [
        {
          "output_type": "display_data",
          "data": {
            "text/plain": [
              "<Figure size 1200x500 with 1 Axes>"
            ],
            "image/png": "[encoded data removed]"
          },
          "metadata": {}
        },
        {
          "output_type": "display_data",
          "data": {
            "text/plain": [
              "<Figure size 1000x500 with 1 Axes>"
            ],
            "image/png": "[encoded data removed]"
          },
          "metadata": {}
        },
        {
          "output_type": "display_data",
          "data": {
            "text/plain": [
              "<Figure size 600x400 with 1 Axes>"
            ],
            "image/png": "[encoded data removed]"
          },
          "metadata": {}
        }
      ]
    },
    {
      "cell_type": "markdown",
      "source": [
        "# merge datasets"
      ],
      "metadata": {
        "id": "XEk8Z2PisPfI"
      }
    },
    {
      "cell_type": "code",
      "source": [
        "print(\"\\nBefore merging - Label distributions:\")\n",
        "print(\"Dataset 1:\", data1['Sentiment'].unique())\n",
        "print(\"Dataset 2:\", data2['Sentiment'].unique())\n",
        "\n",
        "data1['Sentiment_numeric'] = data1['Sentiment'].map({\n",
        "    'positive': 1,\n",
        "    'neutral': 0,\n",
        "    'negative': -1\n",
        "})\n",
        "\n",
        "data2['Sentiment_numeric'] = data2['Sentiment'].map({\n",
        "    2: 1,    # positive\n",
        "    1: 0,    # neutral\n",
        "    0: -1    # negative\n",
        "})\n",
        "\n",
        "print(\"\\nAfter numeric conversion:\")\n",
        "print(\"Dataset 1 numeric labels:\", sorted(data1['Sentiment_numeric'].unique()))\n",
        "print(\"Dataset 2 numeric labels:\", sorted(data2['Sentiment_numeric'].unique()))\n",
        "\n",
        "combined_data = pd.concat([\n",
        "    data1[['Sentence', 'Cleaned', 'Sentiment_numeric']],\n",
        "    data2[['Sentence', 'Cleaned', 'Sentiment_numeric']]\n",
        "], axis=0).reset_index(drop=True)\n",
        "\n",
        "combined_data = combined_data.rename(columns={'Sentiment_numeric': 'Sentiment'})\n",
        "\n",
        "combined_data['Sentiment'] = combined_data['Sentiment'].astype('category')\n",
        "\n",
        "print(\"\\nCombined dataset label distribution:\")\n",
        "print(combined_data['Sentiment'].value_counts())\n",
        "\n",
        "plt.figure(figsize=(8, 5))\n",
        "sns.countplot(x='Sentiment',\n",
        "             data=combined_data,\n",
        "             order=[1, 0, -1],\n",
        "             palette={1: 'green', 0: 'gray', -1: 'red'},\n",
        "             hue='Sentiment',\n",
        "             legend=False)\n",
        "plt.title(\"Final Label Distribution (1=Positive, 0=Neutral, -1=Negative)\")\n",
        "plt.xticks([0, 1, 2], ['Positive (1)', 'Neutral (0)', 'Negative (-1)'])\n",
        "plt.xlabel(\"Sentiment Label\")\n",
        "plt.ylabel(\"Count\")\n",
        "plt.show()\n",
        "\n",
        "# Save to CSV\n",
        "combined_data.to_csv('combined_financial_sentiment_numeric.csv', index=False)\n",
        "print(\"\\nDatasets successfully merged! Final shape:\", combined_data.shape)\n",
        "print(\"Sample of merged data:\")\n",
        "print(combined_data.sample(5))"
      ],
      "metadata": {
        "colab": {
          "base_uri": "https://localhost:8080/",
          "height": 1000
        },
        "id": "7_jbb2DIsRVC",
        "outputId": "81fdb09c-86ea-4ea7-ea3d-8a3126cb5d34"
      },
      "execution_count": 9,
      "outputs": [
        {
          "output_type": "stream",
          "name": "stdout",
          "text": [
            "\n",
            "Before merging - Label distributions:\n",
            "Dataset 1: ['positive' 'negative' 'neutral']\n",
            "Dataset 2: [2 1 0]\n",
            "\n",
            "After numeric conversion:\n",
            "Dataset 1 numeric labels: [np.int64(-1), np.int64(0), np.int64(1)]\n",
            "Dataset 2 numeric labels: [np.int64(-1), np.int64(0), np.int64(1)]\n",
            "\n",
            "Combined dataset label distribution:\n",
            "Sentiment\n",
            " 0    20498\n",
            "-1    13041\n",
            " 1    10394\n",
            "Name: count, dtype: int64\n"
          ]
        },
        {
          "output_type": "display_data",
          "data": {
            "text/plain": [
              "<Figure size 800x500 with 1 Axes>"
            ],
            "image/png": "[encoded data removed]"
          },
          "metadata": {}
        },
        {
          "output_type": "stream",
          "name": "stdout",
          "text": [
            "\n",
            "Datasets successfully merged! Final shape: (43933, 3)\n",
            "Sample of merged data:\n",
            "                                                Sentence  \\\n",
            "9935   After $550 Million Exit, 34-Year Old Founder W...   \n",
            "3971   Costco: A Premier Retail Dividend Play https:/...   \n",
            "737    $AMRN It's accumulating. I think buy now or ho...   \n",
            "38913    @StockMKTNewz U missed one!!\\n\\n$EEENF 📈\\n💨💨💨💨🚀   \n",
            "10727  Navy Secretary Fired Over SEAL Controversy htt...   \n",
            "\n",
            "                                                 Cleaned Sentiment  \n",
            "9935       550 million exit old founder win fresh backer        -1  \n",
            "3971            costco premier retail dividend play cost         1  \n",
            "737    amrn accumulating think buy hold peace todayto...         1  \n",
            "38913                                   missed one eeenf         0  \n",
            "10727              navy secretary fired seal controversy        -1  \n"
          ]
        }
      ]
    },
    {
      "cell_type": "code",
      "source": [
        "pd.set_option('display.max_colwidth', None)\n",
        "pd.set_option('display.width', 1000)\n",
        "\n",
        "samples = combined_data.sample(5, random_state=42)[['Sentence', 'Cleaned', 'Sentiment']].copy()\n",
        "\n",
        "sentiment_map = {-1: 'NEGATIVE', 0: 'NEUTRAL', 1: 'POSITIVE'}\n",
        "samples['Sentiment_Text'] = samples['Sentiment'].map(sentiment_map)\n",
        "\n",
        "for idx, row in samples.iterrows():\n",
        "    print(f\"\\nSAMPLE {idx}:\")\n",
        "    print(f\"ORIGINAL: {row['Sentence']}\")\n",
        "    print(f\"CLEANED: {row['Cleaned']}\")\n",
        "    print(f\"LABEL: {row['Sentiment']} ({row['Sentiment_Text']})\")\n",
        "    print(\"-\"*80)\n",
        "\n",
        "pd.reset_option('display.max_colwidth')\n",
        "pd.reset_option('display.width')"
      ],
      "metadata": {
        "colab": {
          "base_uri": "https://localhost:8080/"
        },
        "id": "6c-t7UiEt84L",
        "outputId": "b2f2d113-3a3a-4134-e45c-18cd8518fd0b"
      },
      "execution_count": 10,
      "outputs": [
        {
          "output_type": "stream",
          "name": "stdout",
          "text": [
            "\n",
            "SAMPLE 18664:\n",
            "ORIGINAL: CEG Confirming the expectation below 98.50.  ikely to crack here.\n",
            "CLEANED: ceg confirming expectation ikely crack\n",
            "LABEL: 1 (POSITIVE)\n",
            "--------------------------------------------------------------------------------\n",
            "\n",
            "SAMPLE 26893:\n",
            "ORIGINAL: $TWTR just a glimpse of the deal falling apart will send this down like a meteor. The risk reward is not in the longs favor. But to each his own I guess. 👁 #stockmarket\n",
            "CLEANED: twtr glimpse deal falling apart send like meteor risk reward longs favor guess stockmarket\n",
            "LABEL: 1 (POSITIVE)\n",
            "--------------------------------------------------------------------------------\n",
            "\n",
            "SAMPLE 16739:\n",
            "ORIGINAL: TicToc https://t.co/EOsKuYWXOv tarafından ⚡️ “Iman, the last Sumatran rhinoceros in Malaysia, has died at 25”\n",
            "CLEANED: tictoc tarafından iman last sumatran rhinoceros malaysia died\n",
            "LABEL: -1 (NEGATIVE)\n",
            "--------------------------------------------------------------------------------\n",
            "\n",
            "SAMPLE 12272:\n",
            "ORIGINAL: Wheat Futures Jump as Virus-Stricken Nations Seek Food Security  #Stock #MarketScreener https://t.co/J0EBT5yD2E https://t.co/9hvC9ibgAx\n",
            "CLEANED: wheat future jump virusstricken nation seek food security marketscreener\n",
            "LABEL: 0 (NEUTRAL)\n",
            "--------------------------------------------------------------------------------\n",
            "\n",
            "SAMPLE 32392:\n",
            "ORIGINAL: $V  new alert at   #stocks #daytrading  #NYSE #NASDAQ #market 312\n",
            "CLEANED: new alert daytrading nyse nasdaq 312\n",
            "LABEL: -1 (NEGATIVE)\n",
            "--------------------------------------------------------------------------------\n"
          ]
        }
      ]
    },
    {
      "cell_type": "markdown",
      "source": [
        "## Downloading Merged Dataset"
      ],
      "metadata": {
        "id": "eJHNYaEJycof"
      }
    },
    {
      "cell_type": "code",
      "source": [
        "from google.colab import files\n",
        "\n",
        "def download_merged_data():\n",
        "    combined_data.to_csv('financial_sentiment_merged.csv', index=False)\n",
        "    files.download('financial_sentiment_merged.csv')\n",
        "    print(\"Download initiated!\")\n",
        "\n",
        "print(\"\\nTo download manually, call: download_merged_data()\")\n",
        "\n",
        "download_merged_data()"
      ],
      "metadata": {
        "colab": {
          "base_uri": "https://localhost:8080/",
          "height": 69
        },
        "id": "l9jSAwabyfOA",
        "outputId": "c1b6aa1c-d25e-4493-d910-84f7785322ed"
      },
      "execution_count": 11,
      "outputs": [
        {
          "output_type": "stream",
          "name": "stdout",
          "text": [
            "\n",
            "To download manually, call: download_merged_data()\n"
          ]
        },
        {
          "output_type": "display_data",
          "data": {
            "text/plain": [
              "<IPython.core.display.Javascript object>"
            ],
            "application/javascript": [
              "\n",
              "    async function download(id, filename, size) {\n",
              "      if (!google.colab.kernel.accessAllowed) {\n",
              "        return;\n",
              "      }\n",
              "      const div = document.createElement('div');\n",
              "      const label = document.createElement('label');\n",
              "      label.textContent = `Downloading \"${filename}\": `;\n",
              "      div.appendChild(label);\n",
              "      const progress = document.createElement('progress');\n",
              "      progress.max = size;\n",
              "      div.appendChild(progress);\n",
              "      document.body.appendChild(div);\n",
              "\n",
              "      const buffers = [];\n",
              "      let downloaded = 0;\n",
              "\n",
              "      const channel = await google.colab.kernel.comms.open(id);\n",
              "      // Send a message to notify the kernel that we're ready.\n",
              "      channel.send({})\n",
              "\n",
              "      for await (const message of channel.messages) {\n",
              "        // Send a message to notify the kernel that we're ready.\n",
              "        channel.send({})\n",
              "        if (message.buffers) {\n",
              "          for (const buffer of message.buffers) {\n",
              "            buffers.push(buffer);\n",
              "            downloaded += buffer.byteLength;\n",
              "            progress.value = downloaded;\n",
              "          }\n",
              "        }\n",
              "      }\n",
              "      const blob = new Blob(buffers, {type: 'application/binary'});\n",
              "      const a = document.createElement('a');\n",
              "      a.href = window.URL.createObjectURL(blob);\n",
              "      a.download = filename;\n",
              "      div.appendChild(a);\n",
              "      a.click();\n",
              "      div.remove();\n",
              "    }\n",
              "  "
            ]
          },
          "metadata": {}
        },
        {
          "output_type": "display_data",
          "data": {
            "text/plain": [
              "<IPython.core.display.Javascript object>"
            ],
            "application/javascript": [
              "download(\"download_3df4ca89-e3a3-4169-b89c-d6816d8bad73\", \"financial_sentiment_merged.csv\", 7274093)"
            ]
          },
          "metadata": {}
        },
        {
          "output_type": "stream",
          "name": "stdout",
          "text": [
            "Download initiated!\n"
          ]
        }
      ]
    }
  ]
}